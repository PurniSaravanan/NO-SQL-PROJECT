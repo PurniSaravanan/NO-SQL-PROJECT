{
 "cells": [
  {
   "cell_type": "code",
   "execution_count": 1,
   "metadata": {},
   "outputs": [],
   "source": [
    "#!pip install pymongo[srv]"
   ]
  },
  {
   "cell_type": "code",
   "execution_count": 2,
   "metadata": {},
   "outputs": [],
   "source": [
    "import pymongo\n",
    "from pymongo import MongoClient\n",
    "from pprint import pprint"
   ]
  },
  {
   "cell_type": "code",
   "execution_count": 3,
   "metadata": {},
   "outputs": [],
   "source": [
    "client=MongoClient('localhost',27017)"
   ]
  },
  {
   "cell_type": "code",
   "execution_count": 4,
   "metadata": {},
   "outputs": [
    {
     "data": {
      "text/plain": [
       "['admin', 'config', 'local', 'mylib', 'project', 'purni_lab']"
      ]
     },
     "execution_count": 4,
     "metadata": {},
     "output_type": "execute_result"
    }
   ],
   "source": [
    "client.list_database_names()"
   ]
  },
  {
   "cell_type": "code",
   "execution_count": 5,
   "metadata": {},
   "outputs": [],
   "source": [
    "client = pymongo.MongoClient(\"mongodb://localhost:27017/\")\n",
    "  \n",
    "# Database Name\n",
    "db = client[\"project\"]\n",
    "  \n",
    "# Collection Name\n",
    "col = db[\"spam_ham\"]\n",
    "  \n",
    "spam_data= col.find()\n",
    "_id=[]\n",
    "Label=[]\n",
    "SMS=[]\n",
    "for data in spam_data:\n",
    "    _id.append(data[\"_id\"])\n",
    "    Label.append(data[\"Label\"])\n",
    "    SMS.append(data[\"SMS\"])"
   ]
  },
  {
   "cell_type": "code",
   "execution_count": 6,
   "metadata": {},
   "outputs": [],
   "source": [
    "import pandas as pd\n",
    "import numpy as np\n",
    "%matplotlib inline\n",
    "import matplotlib.pyplot as plt\n",
    "import seaborn as sns"
   ]
  },
  {
   "cell_type": "code",
   "execution_count": 7,
   "metadata": {},
   "outputs": [
    {
     "data": {
      "text/html": [
       "<div>\n",
       "<style scoped>\n",
       "    .dataframe tbody tr th:only-of-type {\n",
       "        vertical-align: middle;\n",
       "    }\n",
       "\n",
       "    .dataframe tbody tr th {\n",
       "        vertical-align: top;\n",
       "    }\n",
       "\n",
       "    .dataframe thead th {\n",
       "        text-align: right;\n",
       "    }\n",
       "</style>\n",
       "<table border=\"1\" class=\"dataframe\">\n",
       "  <thead>\n",
       "    <tr style=\"text-align: right;\">\n",
       "      <th></th>\n",
       "      <th>_id</th>\n",
       "      <th>Label</th>\n",
       "      <th>SMS</th>\n",
       "    </tr>\n",
       "  </thead>\n",
       "  <tbody>\n",
       "    <tr>\n",
       "      <th>0</th>\n",
       "      <td>608a97ab60671b46401ceeb6</td>\n",
       "      <td>ham</td>\n",
       "      <td>Go until jurong point, crazy.. Available only ...</td>\n",
       "    </tr>\n",
       "    <tr>\n",
       "      <th>1</th>\n",
       "      <td>608a97ab60671b46401ceeb7</td>\n",
       "      <td>ham</td>\n",
       "      <td>Ok lar... Joking wif u oni...</td>\n",
       "    </tr>\n",
       "    <tr>\n",
       "      <th>2</th>\n",
       "      <td>608a97ab60671b46401ceeb8</td>\n",
       "      <td>spam</td>\n",
       "      <td>Free entry in 2 a wkly comp to win FA Cup fina...</td>\n",
       "    </tr>\n",
       "    <tr>\n",
       "      <th>3</th>\n",
       "      <td>608a97ab60671b46401ceeb9</td>\n",
       "      <td>ham</td>\n",
       "      <td>U dun say so early hor... U c already then say...</td>\n",
       "    </tr>\n",
       "    <tr>\n",
       "      <th>4</th>\n",
       "      <td>608a97ab60671b46401ceeba</td>\n",
       "      <td>ham</td>\n",
       "      <td>Nah I don't think he goes to usf, he lives aro...</td>\n",
       "    </tr>\n",
       "    <tr>\n",
       "      <th>5</th>\n",
       "      <td>608a97ab60671b46401ceebb</td>\n",
       "      <td>spam</td>\n",
       "      <td>FreeMsg Hey there darling it's been 3 week's n...</td>\n",
       "    </tr>\n",
       "    <tr>\n",
       "      <th>6</th>\n",
       "      <td>608a97ab60671b46401ceebc</td>\n",
       "      <td>ham</td>\n",
       "      <td>Even my brother is not like to speak with me. ...</td>\n",
       "    </tr>\n",
       "    <tr>\n",
       "      <th>7</th>\n",
       "      <td>608a97ab60671b46401ceebd</td>\n",
       "      <td>ham</td>\n",
       "      <td>As per your request 'Melle Melle (Oru Minnamin...</td>\n",
       "    </tr>\n",
       "    <tr>\n",
       "      <th>8</th>\n",
       "      <td>608a97ab60671b46401ceebe</td>\n",
       "      <td>spam</td>\n",
       "      <td>WINNER!! As a valued network customer you have...</td>\n",
       "    </tr>\n",
       "    <tr>\n",
       "      <th>9</th>\n",
       "      <td>608a97ab60671b46401ceebf</td>\n",
       "      <td>spam</td>\n",
       "      <td>Had your mobile 11 months or more? U R entitle...</td>\n",
       "    </tr>\n",
       "  </tbody>\n",
       "</table>\n",
       "</div>"
      ],
      "text/plain": [
       "                        _id Label  \\\n",
       "0  608a97ab60671b46401ceeb6   ham   \n",
       "1  608a97ab60671b46401ceeb7   ham   \n",
       "2  608a97ab60671b46401ceeb8  spam   \n",
       "3  608a97ab60671b46401ceeb9   ham   \n",
       "4  608a97ab60671b46401ceeba   ham   \n",
       "5  608a97ab60671b46401ceebb  spam   \n",
       "6  608a97ab60671b46401ceebc   ham   \n",
       "7  608a97ab60671b46401ceebd   ham   \n",
       "8  608a97ab60671b46401ceebe  spam   \n",
       "9  608a97ab60671b46401ceebf  spam   \n",
       "\n",
       "                                                 SMS  \n",
       "0  Go until jurong point, crazy.. Available only ...  \n",
       "1                      Ok lar... Joking wif u oni...  \n",
       "2  Free entry in 2 a wkly comp to win FA Cup fina...  \n",
       "3  U dun say so early hor... U c already then say...  \n",
       "4  Nah I don't think he goes to usf, he lives aro...  \n",
       "5  FreeMsg Hey there darling it's been 3 week's n...  \n",
       "6  Even my brother is not like to speak with me. ...  \n",
       "7  As per your request 'Melle Melle (Oru Minnamin...  \n",
       "8  WINNER!! As a valued network customer you have...  \n",
       "9  Had your mobile 11 months or more? U R entitle...  "
      ]
     },
     "execution_count": 7,
     "metadata": {},
     "output_type": "execute_result"
    }
   ],
   "source": [
    "spam_data=pd.DataFrame({\"_id\":_id,\"Label\":Label,\"SMS\":SMS})\n",
    "spam_data.head(10)"
   ]
  },
  {
   "cell_type": "code",
   "execution_count": 8,
   "metadata": {},
   "outputs": [
    {
     "data": {
      "text/plain": [
       "_id      object\n",
       "Label    object\n",
       "SMS      object\n",
       "dtype: object"
      ]
     },
     "execution_count": 8,
     "metadata": {},
     "output_type": "execute_result"
    }
   ],
   "source": [
    "spam_data.dtypes"
   ]
  },
  {
   "cell_type": "code",
   "execution_count": 9,
   "metadata": {},
   "outputs": [],
   "source": [
    "del spam_data[\"_id\"]"
   ]
  },
  {
   "cell_type": "code",
   "execution_count": 10,
   "metadata": {},
   "outputs": [
    {
     "name": "stdout",
     "output_type": "stream",
     "text": [
      "     Label                                                SMS\n",
      "0      ham  Go until jurong point, crazy.. Available only ...\n",
      "1      ham                      Ok lar... Joking wif u oni...\n",
      "2     spam  Free entry in 2 a wkly comp to win FA Cup fina...\n",
      "3      ham  U dun say so early hor... U c already then say...\n",
      "4      ham  Nah I don't think he goes to usf, he lives aro...\n",
      "5     spam  FreeMsg Hey there darling it's been 3 week's n...\n",
      "6      ham  Even my brother is not like to speak with me. ...\n",
      "7      ham  As per your request 'Melle Melle (Oru Minnamin...\n",
      "8     spam  WINNER!! As a valued network customer you have...\n",
      "9     spam  Had your mobile 11 months or more? U R entitle...\n",
      "10     ham  I'm gonna be home soon and i don't want to tal...\n",
      "11    spam  SIX chances to win CASH! From 100 to 20,000 po...\n",
      "12    spam  URGENT! You have won a 1 week FREE membership ...\n",
      "13     ham  I've been searching for the right words to tha...\n",
      "14     ham                I HAVE A DATE ON SUNDAY WITH WILL!!\n",
      "15    spam  XXXMobileMovieClub: To use your credit, click ...\n",
      "16     ham                         Oh k...i'm watching here:)\n",
      "17     ham  Eh u remember how 2 spell his name... Yes i di...\n",
      "18     ham  Fine if thats the way u feel. Thats the way ...\n",
      "19    spam  England v Macedonia - dont miss the goals/team...\n",
      "20     ham          Is that seriously how you spell his name?\n",
      "21     ham    I‘m going to try for 2 months ha ha only joking\n",
      "22     ham  So ü pay first lar... Then when is da stock co...\n",
      "23     ham  Aft i finish my lunch then i go str down lor. ...\n",
      "24     ham  Ffffffffff. Alright no way I can meet up with ...\n",
      "25     ham  Just forced myself to eat a slice. I'm really ...\n",
      "26     ham                     Lol your always so convincing.\n",
      "27     ham  Did you catch the bus ? Are you frying an egg ...\n",
      "28     ham  I'm back &amp; we're packing the car now, I'll...\n",
      "29     ham  Ahhh. Work. I vaguely remember that! What does...\n",
      "...    ...                                                ...\n",
      "5544   ham           Armand says get your ass over to epsilon\n",
      "5545   ham             U still havent got urself a jacket ah?\n",
      "5546   ham  I'm taking derek &amp; taylor to walmart, if I...\n",
      "5547   ham      Hi its in durban are you still on this number\n",
      "5548   ham         Ic. There are a lotta childporn cars then.\n",
      "5549  spam  Had your contract mobile 11 Mnths? Latest Moto...\n",
      "5550   ham                 No, I was trying it all weekend ;V\n",
      "5551   ham  You know, wot people wear. T shirts, jumpers, ...\n",
      "5552   ham        Cool, what time you think you can get here?\n",
      "5553   ham  Wen did you get so spiritual and deep. That's ...\n",
      "5554   ham  Have a safe trip to Nigeria. Wish you happines...\n",
      "5555   ham                        Hahaha..use your brain dear\n",
      "5556   ham  Well keep in mind I've only got enough gas for...\n",
      "5557   ham  Yeh. Indians was nice. Tho it did kane me off ...\n",
      "5558   ham  Yes i have. So that's why u texted. Pshew...mi...\n",
      "5559   ham  No. I meant the calculation is the same. That ...\n",
      "5560   ham                             Sorry, I'll call later\n",
      "5561   ham  if you aren't here in the next  &lt;#&gt;  hou...\n",
      "5562   ham                  Anything lor. Juz both of us lor.\n",
      "5563   ham  Get me out of this dump heap. My mom decided t...\n",
      "5564   ham  Ok lor... Sony ericsson salesman... I ask shuh...\n",
      "5565   ham                                Ard 6 like dat lor.\n",
      "5566   ham  Why don't you wait 'til at least wednesday to ...\n",
      "5567   ham                                       Huh y lei...\n",
      "5568  spam  REMINDER FROM O2: To get 2.50 pounds free call...\n",
      "5569  spam  This is the 2nd time we have tried 2 contact u...\n",
      "5570   ham               Will ü b going to esplanade fr home?\n",
      "5571   ham  Pity, * was in mood for that. So...any other s...\n",
      "5572   ham  The guy did some bitching but I acted like i'd...\n",
      "5573   ham                         Rofl. Its true to its name\n",
      "\n",
      "[5574 rows x 2 columns]\n"
     ]
    }
   ],
   "source": [
    "print(spam_data)"
   ]
  },
  {
   "cell_type": "code",
   "execution_count": 11,
   "metadata": {},
   "outputs": [
    {
     "data": {
      "text/plain": [
       "(5574, 2)"
      ]
     },
     "execution_count": 11,
     "metadata": {},
     "output_type": "execute_result"
    }
   ],
   "source": [
    "spam_data.shape"
   ]
  },
  {
   "cell_type": "code",
   "execution_count": 12,
   "metadata": {},
   "outputs": [
    {
     "data": {
      "image/png": "[encoded data removed]",
      "text/plain": [
       "<Figure size 864x432 with 1 Axes>"
      ]
     },
     "metadata": {
      "needs_background": "light"
     },
     "output_type": "display_data"
    }
   ],
   "source": [
    "# Barplot describes the count of the class labels\n",
    "plt.figure(figsize = (12, 6))\n",
    "sns.countplot(data = spam_data, x = 'Label');"
   ]
  },
  {
   "cell_type": "code",
   "execution_count": 13,
   "metadata": {},
   "outputs": [],
   "source": [
    "#Use to remove spaces or Strip whitespaces (including newlines) \n",
    "spam_data.columns=spam_data.columns.str.lstrip()"
   ]
  },
  {
   "cell_type": "code",
   "execution_count": 14,
   "metadata": {},
   "outputs": [
    {
     "data": {
      "text/plain": [
       "array([['ham',\n",
       "        'Go until jurong point, crazy.. Available only in bugis n great world la e buffet... Cine there got amore wat...'],\n",
       "       ['ham', 'Ok lar... Joking wif u oni...'],\n",
       "       ['spam',\n",
       "        \"Free entry in 2 a wkly comp to win FA Cup final tkts 21st May 2005. Text FA to 87121 to receive entry question(std txt rate)T&C's apply 08452810075over18's\"],\n",
       "       ...,\n",
       "       ['ham',\n",
       "        'Pity, * was in mood for that. So...any other suggestions?'],\n",
       "       ['ham',\n",
       "        \"The guy did some bitching but I acted like i'd be interested in buying something else next week and he gave it to us for free\"],\n",
       "       ['ham', 'Rofl. Its true to its name']], dtype=object)"
      ]
     },
     "execution_count": 14,
     "metadata": {},
     "output_type": "execute_result"
    }
   ],
   "source": [
    "#To get values\n",
    "spam_data.values"
   ]
  },
  {
   "cell_type": "code",
   "execution_count": 15,
   "metadata": {},
   "outputs": [
    {
     "name": "stdout",
     "output_type": "stream",
     "text": [
      "<class 'pandas.core.frame.DataFrame'>\n",
      "RangeIndex: 5574 entries, 0 to 5573\n",
      "Data columns (total 2 columns):\n",
      "Label    5574 non-null object\n",
      "SMS      5574 non-null object\n",
      "dtypes: object(2)\n",
      "memory usage: 87.2+ KB\n"
     ]
    }
   ],
   "source": [
    "#To get information about file\n",
    "spam_data.info()"
   ]
  },
  {
   "cell_type": "code",
   "execution_count": 16,
   "metadata": {},
   "outputs": [
    {
     "data": {
      "text/html": [
       "<div>\n",
       "<style scoped>\n",
       "    .dataframe tbody tr th:only-of-type {\n",
       "        vertical-align: middle;\n",
       "    }\n",
       "\n",
       "    .dataframe tbody tr th {\n",
       "        vertical-align: top;\n",
       "    }\n",
       "\n",
       "    .dataframe thead th {\n",
       "        text-align: right;\n",
       "    }\n",
       "</style>\n",
       "<table border=\"1\" class=\"dataframe\">\n",
       "  <thead>\n",
       "    <tr style=\"text-align: right;\">\n",
       "      <th></th>\n",
       "      <th>SMS</th>\n",
       "      <th>word_count</th>\n",
       "    </tr>\n",
       "  </thead>\n",
       "  <tbody>\n",
       "    <tr>\n",
       "      <th>0</th>\n",
       "      <td>Go until jurong point, crazy.. Available only ...</td>\n",
       "      <td>20</td>\n",
       "    </tr>\n",
       "    <tr>\n",
       "      <th>1</th>\n",
       "      <td>Ok lar... Joking wif u oni...</td>\n",
       "      <td>6</td>\n",
       "    </tr>\n",
       "    <tr>\n",
       "      <th>2</th>\n",
       "      <td>Free entry in 2 a wkly comp to win FA Cup fina...</td>\n",
       "      <td>28</td>\n",
       "    </tr>\n",
       "    <tr>\n",
       "      <th>3</th>\n",
       "      <td>U dun say so early hor... U c already then say...</td>\n",
       "      <td>11</td>\n",
       "    </tr>\n",
       "    <tr>\n",
       "      <th>4</th>\n",
       "      <td>Nah I don't think he goes to usf, he lives aro...</td>\n",
       "      <td>13</td>\n",
       "    </tr>\n",
       "    <tr>\n",
       "      <th>5</th>\n",
       "      <td>FreeMsg Hey there darling it's been 3 week's n...</td>\n",
       "      <td>32</td>\n",
       "    </tr>\n",
       "    <tr>\n",
       "      <th>6</th>\n",
       "      <td>Even my brother is not like to speak with me. ...</td>\n",
       "      <td>16</td>\n",
       "    </tr>\n",
       "    <tr>\n",
       "      <th>7</th>\n",
       "      <td>As per your request 'Melle Melle (Oru Minnamin...</td>\n",
       "      <td>26</td>\n",
       "    </tr>\n",
       "    <tr>\n",
       "      <th>8</th>\n",
       "      <td>WINNER!! As a valued network customer you have...</td>\n",
       "      <td>26</td>\n",
       "    </tr>\n",
       "    <tr>\n",
       "      <th>9</th>\n",
       "      <td>Had your mobile 11 months or more? U R entitle...</td>\n",
       "      <td>29</td>\n",
       "    </tr>\n",
       "  </tbody>\n",
       "</table>\n",
       "</div>"
      ],
      "text/plain": [
       "                                                 SMS  word_count\n",
       "0  Go until jurong point, crazy.. Available only ...          20\n",
       "1                      Ok lar... Joking wif u oni...           6\n",
       "2  Free entry in 2 a wkly comp to win FA Cup fina...          28\n",
       "3  U dun say so early hor... U c already then say...          11\n",
       "4  Nah I don't think he goes to usf, he lives aro...          13\n",
       "5  FreeMsg Hey there darling it's been 3 week's n...          32\n",
       "6  Even my brother is not like to speak with me. ...          16\n",
       "7  As per your request 'Melle Melle (Oru Minnamin...          26\n",
       "8  WINNER!! As a valued network customer you have...          26\n",
       "9  Had your mobile 11 months or more? U R entitle...          29"
      ]
     },
     "execution_count": 16,
     "metadata": {},
     "output_type": "execute_result"
    }
   ],
   "source": [
    "# Number of words in each SMS:\n",
    "spam_data['word_count'] = spam_data['SMS'].apply(lambda x: len(str(x).split(\" \")))\n",
    "spam_data[['SMS','word_count']].head(10)"
   ]
  },
  {
   "cell_type": "code",
   "execution_count": 17,
   "metadata": {},
   "outputs": [
    {
     "data": {
      "text/html": [
       "<div>\n",
       "<style scoped>\n",
       "    .dataframe tbody tr th:only-of-type {\n",
       "        vertical-align: middle;\n",
       "    }\n",
       "\n",
       "    .dataframe tbody tr th {\n",
       "        vertical-align: top;\n",
       "    }\n",
       "\n",
       "    .dataframe thead th {\n",
       "        text-align: right;\n",
       "    }\n",
       "</style>\n",
       "<table border=\"1\" class=\"dataframe\">\n",
       "  <thead>\n",
       "    <tr style=\"text-align: right;\">\n",
       "      <th></th>\n",
       "      <th>SMS</th>\n",
       "      <th>char_count</th>\n",
       "    </tr>\n",
       "  </thead>\n",
       "  <tbody>\n",
       "    <tr>\n",
       "      <th>0</th>\n",
       "      <td>Go until jurong point, crazy.. Available only ...</td>\n",
       "      <td>111</td>\n",
       "    </tr>\n",
       "    <tr>\n",
       "      <th>1</th>\n",
       "      <td>Ok lar... Joking wif u oni...</td>\n",
       "      <td>29</td>\n",
       "    </tr>\n",
       "    <tr>\n",
       "      <th>2</th>\n",
       "      <td>Free entry in 2 a wkly comp to win FA Cup fina...</td>\n",
       "      <td>155</td>\n",
       "    </tr>\n",
       "    <tr>\n",
       "      <th>3</th>\n",
       "      <td>U dun say so early hor... U c already then say...</td>\n",
       "      <td>49</td>\n",
       "    </tr>\n",
       "    <tr>\n",
       "      <th>4</th>\n",
       "      <td>Nah I don't think he goes to usf, he lives aro...</td>\n",
       "      <td>61</td>\n",
       "    </tr>\n",
       "    <tr>\n",
       "      <th>5</th>\n",
       "      <td>FreeMsg Hey there darling it's been 3 week's n...</td>\n",
       "      <td>147</td>\n",
       "    </tr>\n",
       "    <tr>\n",
       "      <th>6</th>\n",
       "      <td>Even my brother is not like to speak with me. ...</td>\n",
       "      <td>77</td>\n",
       "    </tr>\n",
       "    <tr>\n",
       "      <th>7</th>\n",
       "      <td>As per your request 'Melle Melle (Oru Minnamin...</td>\n",
       "      <td>160</td>\n",
       "    </tr>\n",
       "    <tr>\n",
       "      <th>8</th>\n",
       "      <td>WINNER!! As a valued network customer you have...</td>\n",
       "      <td>157</td>\n",
       "    </tr>\n",
       "    <tr>\n",
       "      <th>9</th>\n",
       "      <td>Had your mobile 11 months or more? U R entitle...</td>\n",
       "      <td>154</td>\n",
       "    </tr>\n",
       "  </tbody>\n",
       "</table>\n",
       "</div>"
      ],
      "text/plain": [
       "                                                 SMS  char_count\n",
       "0  Go until jurong point, crazy.. Available only ...         111\n",
       "1                      Ok lar... Joking wif u oni...          29\n",
       "2  Free entry in 2 a wkly comp to win FA Cup fina...         155\n",
       "3  U dun say so early hor... U c already then say...          49\n",
       "4  Nah I don't think he goes to usf, he lives aro...          61\n",
       "5  FreeMsg Hey there darling it's been 3 week's n...         147\n",
       "6  Even my brother is not like to speak with me. ...          77\n",
       "7  As per your request 'Melle Melle (Oru Minnamin...         160\n",
       "8  WINNER!! As a valued network customer you have...         157\n",
       "9  Had your mobile 11 months or more? U R entitle...         154"
      ]
     },
     "execution_count": 17,
     "metadata": {},
     "output_type": "execute_result"
    }
   ],
   "source": [
    "# Number of Characters in each SMS:\n",
    "spam_data['char_count'] = spam_data['SMS'].str.len() #including spaces\n",
    "spam_data[['SMS','char_count']].head(10)"
   ]
  },
  {
   "cell_type": "code",
   "execution_count": 18,
   "metadata": {},
   "outputs": [
    {
     "data": {
      "text/html": [
       "<div>\n",
       "<style scoped>\n",
       "    .dataframe tbody tr th:only-of-type {\n",
       "        vertical-align: middle;\n",
       "    }\n",
       "\n",
       "    .dataframe tbody tr th {\n",
       "        vertical-align: top;\n",
       "    }\n",
       "\n",
       "    .dataframe thead th {\n",
       "        text-align: right;\n",
       "    }\n",
       "</style>\n",
       "<table border=\"1\" class=\"dataframe\">\n",
       "  <thead>\n",
       "    <tr style=\"text-align: right;\">\n",
       "      <th></th>\n",
       "      <th>SMS</th>\n",
       "      <th>avg_word</th>\n",
       "    </tr>\n",
       "  </thead>\n",
       "  <tbody>\n",
       "    <tr>\n",
       "      <th>0</th>\n",
       "      <td>Go until jurong point, crazy.. Available only ...</td>\n",
       "      <td>4.600000</td>\n",
       "    </tr>\n",
       "    <tr>\n",
       "      <th>1</th>\n",
       "      <td>Ok lar... Joking wif u oni...</td>\n",
       "      <td>4.000000</td>\n",
       "    </tr>\n",
       "    <tr>\n",
       "      <th>2</th>\n",
       "      <td>Free entry in 2 a wkly comp to win FA Cup fina...</td>\n",
       "      <td>4.571429</td>\n",
       "    </tr>\n",
       "    <tr>\n",
       "      <th>3</th>\n",
       "      <td>U dun say so early hor... U c already then say...</td>\n",
       "      <td>3.545455</td>\n",
       "    </tr>\n",
       "    <tr>\n",
       "      <th>4</th>\n",
       "      <td>Nah I don't think he goes to usf, he lives aro...</td>\n",
       "      <td>3.769231</td>\n",
       "    </tr>\n",
       "  </tbody>\n",
       "</table>\n",
       "</div>"
      ],
      "text/plain": [
       "                                                 SMS  avg_word\n",
       "0  Go until jurong point, crazy.. Available only ...  4.600000\n",
       "1                      Ok lar... Joking wif u oni...  4.000000\n",
       "2  Free entry in 2 a wkly comp to win FA Cup fina...  4.571429\n",
       "3  U dun say so early hor... U c already then say...  3.545455\n",
       "4  Nah I don't think he goes to usf, he lives aro...  3.769231"
      ]
     },
     "execution_count": 18,
     "metadata": {},
     "output_type": "execute_result"
    }
   ],
   "source": [
    "# Calculating average word length in each SMS:\n",
    "def avg_word(sentence):\n",
    "    words = sentence.split()\n",
    "    return (sum(len(word) for word in words)/len(words))\n",
    "\n",
    "spam_data['avg_word'] = spam_data['SMS'].apply(lambda x: avg_word(x))\n",
    "spam_data[['SMS','avg_word']].head()"
   ]
  },
  {
   "cell_type": "code",
   "execution_count": 19,
   "metadata": {},
   "outputs": [],
   "source": [
    "import nltk"
   ]
  },
  {
   "cell_type": "code",
   "execution_count": 20,
   "metadata": {},
   "outputs": [
    {
     "name": "stderr",
     "output_type": "stream",
     "text": [
      "[nltk_data] Downloading package stopwords to\n",
      "[nltk_data]     C:\\Users\\PURNI\\AppData\\Roaming\\nltk_data...\n",
      "[nltk_data]   Package stopwords is already up-to-date!\n"
     ]
    },
    {
     "data": {
      "text/plain": [
       "True"
      ]
     },
     "execution_count": 20,
     "metadata": {},
     "output_type": "execute_result"
    }
   ],
   "source": [
    "nltk.download('stopwords')"
   ]
  },
  {
   "cell_type": "code",
   "execution_count": 21,
   "metadata": {},
   "outputs": [
    {
     "data": {
      "text/html": [
       "<div>\n",
       "<style scoped>\n",
       "    .dataframe tbody tr th:only-of-type {\n",
       "        vertical-align: middle;\n",
       "    }\n",
       "\n",
       "    .dataframe tbody tr th {\n",
       "        vertical-align: top;\n",
       "    }\n",
       "\n",
       "    .dataframe thead th {\n",
       "        text-align: right;\n",
       "    }\n",
       "</style>\n",
       "<table border=\"1\" class=\"dataframe\">\n",
       "  <thead>\n",
       "    <tr style=\"text-align: right;\">\n",
       "      <th></th>\n",
       "      <th>SMS</th>\n",
       "      <th>stopwords</th>\n",
       "      <th>stopwords_count</th>\n",
       "    </tr>\n",
       "  </thead>\n",
       "  <tbody>\n",
       "    <tr>\n",
       "      <th>0</th>\n",
       "      <td>Go until jurong point, crazy.. Available only ...</td>\n",
       "      <td>[until, only, in, there]</td>\n",
       "      <td>4</td>\n",
       "    </tr>\n",
       "    <tr>\n",
       "      <th>1</th>\n",
       "      <td>Ok lar... Joking wif u oni...</td>\n",
       "      <td>[]</td>\n",
       "      <td>0</td>\n",
       "    </tr>\n",
       "    <tr>\n",
       "      <th>2</th>\n",
       "      <td>Free entry in 2 a wkly comp to win FA Cup fina...</td>\n",
       "      <td>[in, a, to, to, to]</td>\n",
       "      <td>5</td>\n",
       "    </tr>\n",
       "    <tr>\n",
       "      <th>3</th>\n",
       "      <td>U dun say so early hor... U c already then say...</td>\n",
       "      <td>[so, then]</td>\n",
       "      <td>2</td>\n",
       "    </tr>\n",
       "    <tr>\n",
       "      <th>4</th>\n",
       "      <td>Nah I don't think he goes to usf, he lives aro...</td>\n",
       "      <td>[don't, he, to, he, here]</td>\n",
       "      <td>5</td>\n",
       "    </tr>\n",
       "    <tr>\n",
       "      <th>5</th>\n",
       "      <td>FreeMsg Hey there darling it's been 3 week's n...</td>\n",
       "      <td>[there, it's, been, now, and, no, some, you, u...</td>\n",
       "      <td>13</td>\n",
       "    </tr>\n",
       "    <tr>\n",
       "      <th>6</th>\n",
       "      <td>Even my brother is not like to speak with me. ...</td>\n",
       "      <td>[my, is, not, to, with, me]</td>\n",
       "      <td>6</td>\n",
       "    </tr>\n",
       "    <tr>\n",
       "      <th>7</th>\n",
       "      <td>As per your request 'Melle Melle (Oru Minnamin...</td>\n",
       "      <td>[your, has, been, as, your, for, all, to, your]</td>\n",
       "      <td>9</td>\n",
       "    </tr>\n",
       "    <tr>\n",
       "      <th>8</th>\n",
       "      <td>WINNER!! As a valued network customer you have...</td>\n",
       "      <td>[a, you, have, been, to]</td>\n",
       "      <td>5</td>\n",
       "    </tr>\n",
       "    <tr>\n",
       "      <th>9</th>\n",
       "      <td>Had your mobile 11 months or more? U R entitle...</td>\n",
       "      <td>[your, or, to, to, the, with, for, on]</td>\n",
       "      <td>8</td>\n",
       "    </tr>\n",
       "  </tbody>\n",
       "</table>\n",
       "</div>"
      ],
      "text/plain": [
       "                                                 SMS  \\\n",
       "0  Go until jurong point, crazy.. Available only ...   \n",
       "1                      Ok lar... Joking wif u oni...   \n",
       "2  Free entry in 2 a wkly comp to win FA Cup fina...   \n",
       "3  U dun say so early hor... U c already then say...   \n",
       "4  Nah I don't think he goes to usf, he lives aro...   \n",
       "5  FreeMsg Hey there darling it's been 3 week's n...   \n",
       "6  Even my brother is not like to speak with me. ...   \n",
       "7  As per your request 'Melle Melle (Oru Minnamin...   \n",
       "8  WINNER!! As a valued network customer you have...   \n",
       "9  Had your mobile 11 months or more? U R entitle...   \n",
       "\n",
       "                                           stopwords  stopwords_count  \n",
       "0                           [until, only, in, there]                4  \n",
       "1                                                 []                0  \n",
       "2                                [in, a, to, to, to]                5  \n",
       "3                                         [so, then]                2  \n",
       "4                          [don't, he, to, he, here]                5  \n",
       "5  [there, it's, been, now, and, no, some, you, u...               13  \n",
       "6                        [my, is, not, to, with, me]                6  \n",
       "7    [your, has, been, as, your, for, all, to, your]                9  \n",
       "8                           [a, you, have, been, to]                5  \n",
       "9             [your, or, to, to, the, with, for, on]                8  "
      ]
     },
     "execution_count": 21,
     "metadata": {},
     "output_type": "execute_result"
    }
   ],
   "source": [
    "# Number of stopwords:\n",
    "from nltk.corpus import stopwords\n",
    "stop = stopwords.words('english')\n",
    "spam_data['stopwords'] = spam_data['SMS'].apply(lambda x: [x for x in x.split() if x in stop])\n",
    "spam_data['stopwords_count'] = spam_data['SMS'].apply(lambda x: len([x for x in x.split() if x in stop]))\n",
    "spam_data[['SMS','stopwords','stopwords_count']].head(10)"
   ]
  },
  {
   "cell_type": "code",
   "execution_count": 22,
   "metadata": {},
   "outputs": [
    {
     "data": {
      "text/html": [
       "<div>\n",
       "<style scoped>\n",
       "    .dataframe tbody tr th:only-of-type {\n",
       "        vertical-align: middle;\n",
       "    }\n",
       "\n",
       "    .dataframe tbody tr th {\n",
       "        vertical-align: top;\n",
       "    }\n",
       "\n",
       "    .dataframe thead th {\n",
       "        text-align: right;\n",
       "    }\n",
       "</style>\n",
       "<table border=\"1\" class=\"dataframe\">\n",
       "  <thead>\n",
       "    <tr style=\"text-align: right;\">\n",
       "      <th></th>\n",
       "      <th>SMS</th>\n",
       "      <th>hastags</th>\n",
       "      <th>address</th>\n",
       "    </tr>\n",
       "  </thead>\n",
       "  <tbody>\n",
       "    <tr>\n",
       "      <th>0</th>\n",
       "      <td>Go until jurong point, crazy.. Available only ...</td>\n",
       "      <td>0</td>\n",
       "      <td>0</td>\n",
       "    </tr>\n",
       "    <tr>\n",
       "      <th>1</th>\n",
       "      <td>Ok lar... Joking wif u oni...</td>\n",
       "      <td>0</td>\n",
       "      <td>0</td>\n",
       "    </tr>\n",
       "    <tr>\n",
       "      <th>2</th>\n",
       "      <td>Free entry in 2 a wkly comp to win FA Cup fina...</td>\n",
       "      <td>0</td>\n",
       "      <td>0</td>\n",
       "    </tr>\n",
       "    <tr>\n",
       "      <th>3</th>\n",
       "      <td>U dun say so early hor... U c already then say...</td>\n",
       "      <td>0</td>\n",
       "      <td>0</td>\n",
       "    </tr>\n",
       "    <tr>\n",
       "      <th>4</th>\n",
       "      <td>Nah I don't think he goes to usf, he lives aro...</td>\n",
       "      <td>0</td>\n",
       "      <td>0</td>\n",
       "    </tr>\n",
       "    <tr>\n",
       "      <th>5</th>\n",
       "      <td>FreeMsg Hey there darling it's been 3 week's n...</td>\n",
       "      <td>0</td>\n",
       "      <td>0</td>\n",
       "    </tr>\n",
       "    <tr>\n",
       "      <th>6</th>\n",
       "      <td>Even my brother is not like to speak with me. ...</td>\n",
       "      <td>0</td>\n",
       "      <td>0</td>\n",
       "    </tr>\n",
       "    <tr>\n",
       "      <th>7</th>\n",
       "      <td>As per your request 'Melle Melle (Oru Minnamin...</td>\n",
       "      <td>0</td>\n",
       "      <td>0</td>\n",
       "    </tr>\n",
       "    <tr>\n",
       "      <th>8</th>\n",
       "      <td>WINNER!! As a valued network customer you have...</td>\n",
       "      <td>0</td>\n",
       "      <td>0</td>\n",
       "    </tr>\n",
       "    <tr>\n",
       "      <th>9</th>\n",
       "      <td>Had your mobile 11 months or more? U R entitle...</td>\n",
       "      <td>0</td>\n",
       "      <td>0</td>\n",
       "    </tr>\n",
       "  </tbody>\n",
       "</table>\n",
       "</div>"
      ],
      "text/plain": [
       "                                                 SMS  hastags  address\n",
       "0  Go until jurong point, crazy.. Available only ...        0        0\n",
       "1                      Ok lar... Joking wif u oni...        0        0\n",
       "2  Free entry in 2 a wkly comp to win FA Cup fina...        0        0\n",
       "3  U dun say so early hor... U c already then say...        0        0\n",
       "4  Nah I don't think he goes to usf, he lives aro...        0        0\n",
       "5  FreeMsg Hey there darling it's been 3 week's n...        0        0\n",
       "6  Even my brother is not like to speak with me. ...        0        0\n",
       "7  As per your request 'Melle Melle (Oru Minnamin...        0        0\n",
       "8  WINNER!! As a valued network customer you have...        0        0\n",
       "9  Had your mobile 11 months or more? U R entitle...        0        0"
      ]
     },
     "execution_count": 22,
     "metadata": {},
     "output_type": "execute_result"
    }
   ],
   "source": [
    "# Number of special characters:\n",
    "spam_data['hastags'] =spam_data['SMS'].apply(lambda x: len([x for x in x.split() if x.startswith('#')]))\n",
    "spam_data['address'] =spam_data['SMS'].apply(lambda x: len([x for x in x.split() if x.startswith('@')]))\n",
    "spam_data[['SMS','hastags','address']].head(10)"
   ]
  },
  {
   "cell_type": "code",
   "execution_count": 23,
   "metadata": {},
   "outputs": [
    {
     "data": {
      "text/plain": [
       "0    Go until jurong point, crazy.. Available only ...\n",
       "1                        Ok lar... Joking wif u oni...\n",
       "2    Free entry in 2 a wkly comp to win FA Cup fina...\n",
       "3    U dun say so early hor... U c already then say...\n",
       "4    Nah I don't think he goes to usf, he lives aro...\n",
       "5    FreeMsg Hey there darling it's been 3 week's n...\n",
       "6    Even my brother is not like to speak with me. ...\n",
       "7    As per your request 'Melle Melle (Oru Minnamin...\n",
       "8    WINNER!! As a valued network customer you have...\n",
       "9    Had your mobile 11 months or more? U R entitle...\n",
       "Name: SMS, dtype: object"
      ]
     },
     "execution_count": 23,
     "metadata": {},
     "output_type": "execute_result"
    }
   ],
   "source": [
    "spam_data['SMS'].head(10)"
   ]
  },
  {
   "cell_type": "code",
   "execution_count": 24,
   "metadata": {},
   "outputs": [],
   "source": [
    "# Importing required Libraries\n",
    "from sklearn.model_selection import train_test_split\n",
    "from collections import Counter\n",
    "import string\n",
    "import re\n",
    "import mailbox\n",
    "from textblob import TextBlob\n",
    "import sklearn"
   ]
  },
  {
   "cell_type": "code",
   "execution_count": 25,
   "metadata": {},
   "outputs": [],
   "source": [
    "from nltk.tokenize import word_tokenize\n",
    "from nltk.corpus import stopwords\n",
    "import random\n",
    "stop_words = set(stopwords.words('english'))"
   ]
  },
  {
   "cell_type": "code",
   "execution_count": 26,
   "metadata": {},
   "outputs": [
    {
     "data": {
      "text/html": [
       "<div>\n",
       "<style scoped>\n",
       "    .dataframe tbody tr th:only-of-type {\n",
       "        vertical-align: middle;\n",
       "    }\n",
       "\n",
       "    .dataframe tbody tr th {\n",
       "        vertical-align: top;\n",
       "    }\n",
       "\n",
       "    .dataframe thead th {\n",
       "        text-align: right;\n",
       "    }\n",
       "</style>\n",
       "<table border=\"1\" class=\"dataframe\">\n",
       "  <thead>\n",
       "    <tr style=\"text-align: right;\">\n",
       "      <th></th>\n",
       "      <th>Label</th>\n",
       "      <th>SMS</th>\n",
       "      <th>word_count</th>\n",
       "      <th>char_count</th>\n",
       "      <th>avg_word</th>\n",
       "      <th>stopwords</th>\n",
       "      <th>stopwords_count</th>\n",
       "      <th>hastags</th>\n",
       "      <th>address</th>\n",
       "    </tr>\n",
       "  </thead>\n",
       "  <tbody>\n",
       "    <tr>\n",
       "      <th>0</th>\n",
       "      <td>ham</td>\n",
       "      <td>Go until jurong point, crazy.. Available only ...</td>\n",
       "      <td>20</td>\n",
       "      <td>111</td>\n",
       "      <td>4.600000</td>\n",
       "      <td>[until, only, in, there]</td>\n",
       "      <td>4</td>\n",
       "      <td>0</td>\n",
       "      <td>0</td>\n",
       "    </tr>\n",
       "    <tr>\n",
       "      <th>1</th>\n",
       "      <td>ham</td>\n",
       "      <td>Ok lar... Joking wif u oni...</td>\n",
       "      <td>6</td>\n",
       "      <td>29</td>\n",
       "      <td>4.000000</td>\n",
       "      <td>[]</td>\n",
       "      <td>0</td>\n",
       "      <td>0</td>\n",
       "      <td>0</td>\n",
       "    </tr>\n",
       "    <tr>\n",
       "      <th>2</th>\n",
       "      <td>spam</td>\n",
       "      <td>Free entry in 2 a wkly comp to win FA Cup fina...</td>\n",
       "      <td>28</td>\n",
       "      <td>155</td>\n",
       "      <td>4.571429</td>\n",
       "      <td>[in, a, to, to, to]</td>\n",
       "      <td>5</td>\n",
       "      <td>0</td>\n",
       "      <td>0</td>\n",
       "    </tr>\n",
       "    <tr>\n",
       "      <th>3</th>\n",
       "      <td>ham</td>\n",
       "      <td>U dun say so early hor... U c already then say...</td>\n",
       "      <td>11</td>\n",
       "      <td>49</td>\n",
       "      <td>3.545455</td>\n",
       "      <td>[so, then]</td>\n",
       "      <td>2</td>\n",
       "      <td>0</td>\n",
       "      <td>0</td>\n",
       "    </tr>\n",
       "    <tr>\n",
       "      <th>4</th>\n",
       "      <td>ham</td>\n",
       "      <td>Nah I don't think he goes to usf, he lives aro...</td>\n",
       "      <td>13</td>\n",
       "      <td>61</td>\n",
       "      <td>3.769231</td>\n",
       "      <td>[don't, he, to, he, here]</td>\n",
       "      <td>5</td>\n",
       "      <td>0</td>\n",
       "      <td>0</td>\n",
       "    </tr>\n",
       "  </tbody>\n",
       "</table>\n",
       "</div>"
      ],
      "text/plain": [
       "  Label                                                SMS  word_count  \\\n",
       "0   ham  Go until jurong point, crazy.. Available only ...          20   \n",
       "1   ham                      Ok lar... Joking wif u oni...           6   \n",
       "2  spam  Free entry in 2 a wkly comp to win FA Cup fina...          28   \n",
       "3   ham  U dun say so early hor... U c already then say...          11   \n",
       "4   ham  Nah I don't think he goes to usf, he lives aro...          13   \n",
       "\n",
       "   char_count  avg_word                  stopwords  stopwords_count  hastags  \\\n",
       "0         111  4.600000   [until, only, in, there]                4        0   \n",
       "1          29  4.000000                         []                0        0   \n",
       "2         155  4.571429        [in, a, to, to, to]                5        0   \n",
       "3          49  3.545455                 [so, then]                2        0   \n",
       "4          61  3.769231  [don't, he, to, he, here]                5        0   \n",
       "\n",
       "   address  \n",
       "0        0  \n",
       "1        0  \n",
       "2        0  \n",
       "3        0  \n",
       "4        0  "
      ]
     },
     "execution_count": 26,
     "metadata": {},
     "output_type": "execute_result"
    }
   ],
   "source": [
    "spam_data.head()"
   ]
  },
  {
   "cell_type": "markdown",
   "metadata": {},
   "source": [
    "## Data Preprocessing"
   ]
  },
  {
   "cell_type": "code",
   "execution_count": 27,
   "metadata": {},
   "outputs": [],
   "source": [
    "def preprocess_spam_sms(sms):\n",
    "    sms.lower()\n",
    "    # Remove urls\n",
    "    sms = re.sub(r\"http\\S+|www\\S+|https\\S+\", '', sms, flags=re.MULTILINE)\n",
    "    \n",
    "    # Removing Punctuation:\n",
    "    sms = re.sub(r'[^\\w\\s]','', sms)\n",
    "    sms = sms.translate(str.maketrans('', '', string.punctuation))\n",
    "\n",
    "    # Remove stopwords\n",
    "    sms_tokens = word_tokenize(sms)\n",
    "    filtered_words = [w for w in sms_tokens if not w in stop_words]\n",
    "    \n",
    "    return \" \".join(filtered_words)"
   ]
  },
  {
   "cell_type": "code",
   "execution_count": 28,
   "metadata": {},
   "outputs": [
    {
     "name": "stderr",
     "output_type": "stream",
     "text": [
      "[nltk_data] Downloading package punkt to\n",
      "[nltk_data]     C:\\Users\\PURNI\\AppData\\Roaming\\nltk_data...\n",
      "[nltk_data]   Package punkt is already up-to-date!\n"
     ]
    },
    {
     "data": {
      "text/plain": [
       "True"
      ]
     },
     "execution_count": 28,
     "metadata": {},
     "output_type": "execute_result"
    }
   ],
   "source": [
    "nltk.download('punkt')"
   ]
  },
  {
   "cell_type": "code",
   "execution_count": 29,
   "metadata": {},
   "outputs": [],
   "source": [
    "pd.options.mode.chained_assignment = None\n",
    "spam_data['SMS'] = spam_data['SMS'].apply(preprocess_spam_sms)"
   ]
  },
  {
   "cell_type": "code",
   "execution_count": 30,
   "metadata": {},
   "outputs": [
    {
     "data": {
      "text/html": [
       "<div>\n",
       "<style scoped>\n",
       "    .dataframe tbody tr th:only-of-type {\n",
       "        vertical-align: middle;\n",
       "    }\n",
       "\n",
       "    .dataframe tbody tr th {\n",
       "        vertical-align: top;\n",
       "    }\n",
       "\n",
       "    .dataframe thead th {\n",
       "        text-align: right;\n",
       "    }\n",
       "</style>\n",
       "<table border=\"1\" class=\"dataframe\">\n",
       "  <thead>\n",
       "    <tr style=\"text-align: right;\">\n",
       "      <th></th>\n",
       "      <th>Label</th>\n",
       "      <th>SMS</th>\n",
       "      <th>word_count</th>\n",
       "      <th>char_count</th>\n",
       "      <th>avg_word</th>\n",
       "      <th>stopwords</th>\n",
       "      <th>stopwords_count</th>\n",
       "      <th>hastags</th>\n",
       "      <th>address</th>\n",
       "    </tr>\n",
       "  </thead>\n",
       "  <tbody>\n",
       "    <tr>\n",
       "      <th>0</th>\n",
       "      <td>ham</td>\n",
       "      <td>Go jurong point crazy Available bugis n great ...</td>\n",
       "      <td>20</td>\n",
       "      <td>111</td>\n",
       "      <td>4.600000</td>\n",
       "      <td>[until, only, in, there]</td>\n",
       "      <td>4</td>\n",
       "      <td>0</td>\n",
       "      <td>0</td>\n",
       "    </tr>\n",
       "    <tr>\n",
       "      <th>1</th>\n",
       "      <td>ham</td>\n",
       "      <td>Ok lar Joking wif u oni</td>\n",
       "      <td>6</td>\n",
       "      <td>29</td>\n",
       "      <td>4.000000</td>\n",
       "      <td>[]</td>\n",
       "      <td>0</td>\n",
       "      <td>0</td>\n",
       "      <td>0</td>\n",
       "    </tr>\n",
       "    <tr>\n",
       "      <th>2</th>\n",
       "      <td>spam</td>\n",
       "      <td>Free entry 2 wkly comp win FA Cup final tkts 2...</td>\n",
       "      <td>28</td>\n",
       "      <td>155</td>\n",
       "      <td>4.571429</td>\n",
       "      <td>[in, a, to, to, to]</td>\n",
       "      <td>5</td>\n",
       "      <td>0</td>\n",
       "      <td>0</td>\n",
       "    </tr>\n",
       "    <tr>\n",
       "      <th>3</th>\n",
       "      <td>ham</td>\n",
       "      <td>U dun say early hor U c already say</td>\n",
       "      <td>11</td>\n",
       "      <td>49</td>\n",
       "      <td>3.545455</td>\n",
       "      <td>[so, then]</td>\n",
       "      <td>2</td>\n",
       "      <td>0</td>\n",
       "      <td>0</td>\n",
       "    </tr>\n",
       "    <tr>\n",
       "      <th>4</th>\n",
       "      <td>ham</td>\n",
       "      <td>Nah I dont think goes usf lives around though</td>\n",
       "      <td>13</td>\n",
       "      <td>61</td>\n",
       "      <td>3.769231</td>\n",
       "      <td>[don't, he, to, he, here]</td>\n",
       "      <td>5</td>\n",
       "      <td>0</td>\n",
       "      <td>0</td>\n",
       "    </tr>\n",
       "    <tr>\n",
       "      <th>5</th>\n",
       "      <td>spam</td>\n",
       "      <td>FreeMsg Hey darling 3 weeks word back Id like ...</td>\n",
       "      <td>32</td>\n",
       "      <td>147</td>\n",
       "      <td>3.625000</td>\n",
       "      <td>[there, it's, been, now, and, no, some, you, u...</td>\n",
       "      <td>13</td>\n",
       "      <td>0</td>\n",
       "      <td>0</td>\n",
       "    </tr>\n",
       "    <tr>\n",
       "      <th>6</th>\n",
       "      <td>ham</td>\n",
       "      <td>Even brother like speak They treat like aids p...</td>\n",
       "      <td>16</td>\n",
       "      <td>77</td>\n",
       "      <td>3.875000</td>\n",
       "      <td>[my, is, not, to, with, me]</td>\n",
       "      <td>6</td>\n",
       "      <td>0</td>\n",
       "      <td>0</td>\n",
       "    </tr>\n",
       "    <tr>\n",
       "      <th>7</th>\n",
       "      <td>ham</td>\n",
       "      <td>As per request Melle Melle Oru Minnaminunginte...</td>\n",
       "      <td>26</td>\n",
       "      <td>160</td>\n",
       "      <td>5.192308</td>\n",
       "      <td>[your, has, been, as, your, for, all, to, your]</td>\n",
       "      <td>9</td>\n",
       "      <td>0</td>\n",
       "      <td>0</td>\n",
       "    </tr>\n",
       "    <tr>\n",
       "      <th>8</th>\n",
       "      <td>spam</td>\n",
       "      <td>WINNER As valued network customer selected rec...</td>\n",
       "      <td>26</td>\n",
       "      <td>157</td>\n",
       "      <td>5.076923</td>\n",
       "      <td>[a, you, have, been, to]</td>\n",
       "      <td>5</td>\n",
       "      <td>0</td>\n",
       "      <td>0</td>\n",
       "    </tr>\n",
       "    <tr>\n",
       "      <th>9</th>\n",
       "      <td>spam</td>\n",
       "      <td>Had mobile 11 months U R entitled Update lates...</td>\n",
       "      <td>29</td>\n",
       "      <td>154</td>\n",
       "      <td>4.344828</td>\n",
       "      <td>[your, or, to, to, the, with, for, on]</td>\n",
       "      <td>8</td>\n",
       "      <td>0</td>\n",
       "      <td>0</td>\n",
       "    </tr>\n",
       "  </tbody>\n",
       "</table>\n",
       "</div>"
      ],
      "text/plain": [
       "  Label                                                SMS  word_count  \\\n",
       "0   ham  Go jurong point crazy Available bugis n great ...          20   \n",
       "1   ham                            Ok lar Joking wif u oni           6   \n",
       "2  spam  Free entry 2 wkly comp win FA Cup final tkts 2...          28   \n",
       "3   ham                U dun say early hor U c already say          11   \n",
       "4   ham      Nah I dont think goes usf lives around though          13   \n",
       "5  spam  FreeMsg Hey darling 3 weeks word back Id like ...          32   \n",
       "6   ham  Even brother like speak They treat like aids p...          16   \n",
       "7   ham  As per request Melle Melle Oru Minnaminunginte...          26   \n",
       "8  spam  WINNER As valued network customer selected rec...          26   \n",
       "9  spam  Had mobile 11 months U R entitled Update lates...          29   \n",
       "\n",
       "   char_count  avg_word                                          stopwords  \\\n",
       "0         111  4.600000                           [until, only, in, there]   \n",
       "1          29  4.000000                                                 []   \n",
       "2         155  4.571429                                [in, a, to, to, to]   \n",
       "3          49  3.545455                                         [so, then]   \n",
       "4          61  3.769231                          [don't, he, to, he, here]   \n",
       "5         147  3.625000  [there, it's, been, now, and, no, some, you, u...   \n",
       "6          77  3.875000                        [my, is, not, to, with, me]   \n",
       "7         160  5.192308    [your, has, been, as, your, for, all, to, your]   \n",
       "8         157  5.076923                           [a, you, have, been, to]   \n",
       "9         154  4.344828             [your, or, to, to, the, with, for, on]   \n",
       "\n",
       "   stopwords_count  hastags  address  \n",
       "0                4        0        0  \n",
       "1                0        0        0  \n",
       "2                5        0        0  \n",
       "3                2        0        0  \n",
       "4                5        0        0  \n",
       "5               13        0        0  \n",
       "6                6        0        0  \n",
       "7                9        0        0  \n",
       "8                5        0        0  \n",
       "9                8        0        0  "
      ]
     },
     "execution_count": 30,
     "metadata": {},
     "output_type": "execute_result"
    }
   ],
   "source": [
    "spam_data.head(10)"
   ]
  },
  {
   "cell_type": "code",
   "execution_count": 31,
   "metadata": {},
   "outputs": [],
   "source": [
    "# Make sentences in lower case\n",
    "pd.options.mode.chained_assignment = None\n",
    "spam_data['SMS']=spam_data['SMS'].str.lower()"
   ]
  },
  {
   "cell_type": "code",
   "execution_count": 32,
   "metadata": {},
   "outputs": [
    {
     "data": {
      "text/html": [
       "<div>\n",
       "<style scoped>\n",
       "    .dataframe tbody tr th:only-of-type {\n",
       "        vertical-align: middle;\n",
       "    }\n",
       "\n",
       "    .dataframe tbody tr th {\n",
       "        vertical-align: top;\n",
       "    }\n",
       "\n",
       "    .dataframe thead th {\n",
       "        text-align: right;\n",
       "    }\n",
       "</style>\n",
       "<table border=\"1\" class=\"dataframe\">\n",
       "  <thead>\n",
       "    <tr style=\"text-align: right;\">\n",
       "      <th></th>\n",
       "      <th>Label</th>\n",
       "      <th>SMS</th>\n",
       "      <th>word_count</th>\n",
       "      <th>char_count</th>\n",
       "      <th>avg_word</th>\n",
       "      <th>stopwords</th>\n",
       "      <th>stopwords_count</th>\n",
       "      <th>hastags</th>\n",
       "      <th>address</th>\n",
       "    </tr>\n",
       "  </thead>\n",
       "  <tbody>\n",
       "    <tr>\n",
       "      <th>0</th>\n",
       "      <td>ham</td>\n",
       "      <td>go jurong point crazy available bugis n great ...</td>\n",
       "      <td>20</td>\n",
       "      <td>111</td>\n",
       "      <td>4.600000</td>\n",
       "      <td>[until, only, in, there]</td>\n",
       "      <td>4</td>\n",
       "      <td>0</td>\n",
       "      <td>0</td>\n",
       "    </tr>\n",
       "    <tr>\n",
       "      <th>1</th>\n",
       "      <td>ham</td>\n",
       "      <td>ok lar joking wif u oni</td>\n",
       "      <td>6</td>\n",
       "      <td>29</td>\n",
       "      <td>4.000000</td>\n",
       "      <td>[]</td>\n",
       "      <td>0</td>\n",
       "      <td>0</td>\n",
       "      <td>0</td>\n",
       "    </tr>\n",
       "    <tr>\n",
       "      <th>2</th>\n",
       "      <td>spam</td>\n",
       "      <td>free entry 2 wkly comp win fa cup final tkts 2...</td>\n",
       "      <td>28</td>\n",
       "      <td>155</td>\n",
       "      <td>4.571429</td>\n",
       "      <td>[in, a, to, to, to]</td>\n",
       "      <td>5</td>\n",
       "      <td>0</td>\n",
       "      <td>0</td>\n",
       "    </tr>\n",
       "    <tr>\n",
       "      <th>3</th>\n",
       "      <td>ham</td>\n",
       "      <td>u dun say early hor u c already say</td>\n",
       "      <td>11</td>\n",
       "      <td>49</td>\n",
       "      <td>3.545455</td>\n",
       "      <td>[so, then]</td>\n",
       "      <td>2</td>\n",
       "      <td>0</td>\n",
       "      <td>0</td>\n",
       "    </tr>\n",
       "    <tr>\n",
       "      <th>4</th>\n",
       "      <td>ham</td>\n",
       "      <td>nah i dont think goes usf lives around though</td>\n",
       "      <td>13</td>\n",
       "      <td>61</td>\n",
       "      <td>3.769231</td>\n",
       "      <td>[don't, he, to, he, here]</td>\n",
       "      <td>5</td>\n",
       "      <td>0</td>\n",
       "      <td>0</td>\n",
       "    </tr>\n",
       "    <tr>\n",
       "      <th>5</th>\n",
       "      <td>spam</td>\n",
       "      <td>freemsg hey darling 3 weeks word back id like ...</td>\n",
       "      <td>32</td>\n",
       "      <td>147</td>\n",
       "      <td>3.625000</td>\n",
       "      <td>[there, it's, been, now, and, no, some, you, u...</td>\n",
       "      <td>13</td>\n",
       "      <td>0</td>\n",
       "      <td>0</td>\n",
       "    </tr>\n",
       "    <tr>\n",
       "      <th>6</th>\n",
       "      <td>ham</td>\n",
       "      <td>even brother like speak they treat like aids p...</td>\n",
       "      <td>16</td>\n",
       "      <td>77</td>\n",
       "      <td>3.875000</td>\n",
       "      <td>[my, is, not, to, with, me]</td>\n",
       "      <td>6</td>\n",
       "      <td>0</td>\n",
       "      <td>0</td>\n",
       "    </tr>\n",
       "    <tr>\n",
       "      <th>7</th>\n",
       "      <td>ham</td>\n",
       "      <td>as per request melle melle oru minnaminunginte...</td>\n",
       "      <td>26</td>\n",
       "      <td>160</td>\n",
       "      <td>5.192308</td>\n",
       "      <td>[your, has, been, as, your, for, all, to, your]</td>\n",
       "      <td>9</td>\n",
       "      <td>0</td>\n",
       "      <td>0</td>\n",
       "    </tr>\n",
       "    <tr>\n",
       "      <th>8</th>\n",
       "      <td>spam</td>\n",
       "      <td>winner as valued network customer selected rec...</td>\n",
       "      <td>26</td>\n",
       "      <td>157</td>\n",
       "      <td>5.076923</td>\n",
       "      <td>[a, you, have, been, to]</td>\n",
       "      <td>5</td>\n",
       "      <td>0</td>\n",
       "      <td>0</td>\n",
       "    </tr>\n",
       "    <tr>\n",
       "      <th>9</th>\n",
       "      <td>spam</td>\n",
       "      <td>had mobile 11 months u r entitled update lates...</td>\n",
       "      <td>29</td>\n",
       "      <td>154</td>\n",
       "      <td>4.344828</td>\n",
       "      <td>[your, or, to, to, the, with, for, on]</td>\n",
       "      <td>8</td>\n",
       "      <td>0</td>\n",
       "      <td>0</td>\n",
       "    </tr>\n",
       "  </tbody>\n",
       "</table>\n",
       "</div>"
      ],
      "text/plain": [
       "  Label                                                SMS  word_count  \\\n",
       "0   ham  go jurong point crazy available bugis n great ...          20   \n",
       "1   ham                            ok lar joking wif u oni           6   \n",
       "2  spam  free entry 2 wkly comp win fa cup final tkts 2...          28   \n",
       "3   ham                u dun say early hor u c already say          11   \n",
       "4   ham      nah i dont think goes usf lives around though          13   \n",
       "5  spam  freemsg hey darling 3 weeks word back id like ...          32   \n",
       "6   ham  even brother like speak they treat like aids p...          16   \n",
       "7   ham  as per request melle melle oru minnaminunginte...          26   \n",
       "8  spam  winner as valued network customer selected rec...          26   \n",
       "9  spam  had mobile 11 months u r entitled update lates...          29   \n",
       "\n",
       "   char_count  avg_word                                          stopwords  \\\n",
       "0         111  4.600000                           [until, only, in, there]   \n",
       "1          29  4.000000                                                 []   \n",
       "2         155  4.571429                                [in, a, to, to, to]   \n",
       "3          49  3.545455                                         [so, then]   \n",
       "4          61  3.769231                          [don't, he, to, he, here]   \n",
       "5         147  3.625000  [there, it's, been, now, and, no, some, you, u...   \n",
       "6          77  3.875000                        [my, is, not, to, with, me]   \n",
       "7         160  5.192308    [your, has, been, as, your, for, all, to, your]   \n",
       "8         157  5.076923                           [a, you, have, been, to]   \n",
       "9         154  4.344828             [your, or, to, to, the, with, for, on]   \n",
       "\n",
       "   stopwords_count  hastags  address  \n",
       "0                4        0        0  \n",
       "1                0        0        0  \n",
       "2                5        0        0  \n",
       "3                2        0        0  \n",
       "4                5        0        0  \n",
       "5               13        0        0  \n",
       "6                6        0        0  \n",
       "7                9        0        0  \n",
       "8                5        0        0  \n",
       "9                8        0        0  "
      ]
     },
     "execution_count": 32,
     "metadata": {},
     "output_type": "execute_result"
    }
   ],
   "source": [
    "spam_data.head(10)"
   ]
  },
  {
   "cell_type": "code",
   "execution_count": 33,
   "metadata": {},
   "outputs": [
    {
     "name": "stderr",
     "output_type": "stream",
     "text": [
      "[nltk_data] Downloading package wordnet to\n",
      "[nltk_data]     C:\\Users\\PURNI\\AppData\\Roaming\\nltk_data...\n",
      "[nltk_data]   Package wordnet is already up-to-date!\n"
     ]
    },
    {
     "data": {
      "text/plain": [
       "True"
      ]
     },
     "execution_count": 33,
     "metadata": {},
     "output_type": "execute_result"
    }
   ],
   "source": [
    "nltk.download('wordnet')"
   ]
  },
  {
   "cell_type": "markdown",
   "metadata": {},
   "source": [
    "Stemming :Stemming refers to the removal of suffices, like “ing”, “ly”, “s”, etc.\n",
    "\n",
    "Lemmatization:\n",
    "Lemmatization is a more effective option than stemming because it converts the word into its root word,rather than just stripping the suffices. It makes use of the vocabulary and does a morphological analysis to obtain the root word. Therefore, we usually prefer using lemmatization over stemming."
   ]
  },
  {
   "cell_type": "code",
   "execution_count": 34,
   "metadata": {},
   "outputs": [
    {
     "data": {
      "text/plain": [
       "0    go jurong point crazy available bugis n great ...\n",
       "1                              ok lar joking wif u oni\n",
       "2    free entry 2 wkly comp win fa cup final tkts 2...\n",
       "3                  u dun say early hor u c already say\n",
       "4           nah i dont think go usf life around though\n",
       "5    freemsg hey darling 3 week word back id like f...\n",
       "6    even brother like speak they treat like aid pa...\n",
       "7    a per request melle melle oru minnaminunginte ...\n",
       "8    winner a valued network customer selected rece...\n",
       "9    had mobile 11 month u r entitled update latest...\n",
       "Name: SMS, dtype: object"
      ]
     },
     "execution_count": 34,
     "metadata": {},
     "output_type": "execute_result"
    }
   ],
   "source": [
    "from textblob import Word\n",
    "spam_data.loc[:, ('SMS')] = spam_data.loc[:, ('SMS')].apply(lambda x: \" \".join([Word(word).lemmatize() for word in x.split()]))\n",
    "spam_data['SMS'].head(10)"
   ]
  },
  {
   "cell_type": "code",
   "execution_count": 35,
   "metadata": {},
   "outputs": [],
   "source": [
    "#replacing numbers with \" \"\n",
    "spam_data['SMS'] = spam_data['SMS'].str.replace(r'\\d+','')"
   ]
  },
  {
   "cell_type": "code",
   "execution_count": 36,
   "metadata": {},
   "outputs": [
    {
     "data": {
      "text/plain": [
       "0    go jurong point crazy available bugis n great ...\n",
       "1                              ok lar joking wif u oni\n",
       "2    free entry  wkly comp win fa cup final tkts st...\n",
       "3                  u dun say early hor u c already say\n",
       "4           nah i dont think go usf life around though\n",
       "5    freemsg hey darling  week word back id like fu...\n",
       "6    even brother like speak they treat like aid pa...\n",
       "7    a per request melle melle oru minnaminunginte ...\n",
       "8    winner a valued network customer selected rece...\n",
       "9    had mobile  month u r entitled update latest c...\n",
       "Name: SMS, dtype: object"
      ]
     },
     "execution_count": 36,
     "metadata": {},
     "output_type": "execute_result"
    }
   ],
   "source": [
    "spam_data['SMS'].head(10)"
   ]
  },
  {
   "cell_type": "code",
   "execution_count": 37,
   "metadata": {},
   "outputs": [
    {
     "data": {
      "text/html": [
       "<div>\n",
       "<style scoped>\n",
       "    .dataframe tbody tr th:only-of-type {\n",
       "        vertical-align: middle;\n",
       "    }\n",
       "\n",
       "    .dataframe tbody tr th {\n",
       "        vertical-align: top;\n",
       "    }\n",
       "\n",
       "    .dataframe thead th {\n",
       "        text-align: right;\n",
       "    }\n",
       "</style>\n",
       "<table border=\"1\" class=\"dataframe\">\n",
       "  <thead>\n",
       "    <tr style=\"text-align: right;\">\n",
       "      <th></th>\n",
       "      <th>Label</th>\n",
       "      <th>SMS</th>\n",
       "      <th>word_count</th>\n",
       "      <th>char_count</th>\n",
       "      <th>avg_word</th>\n",
       "      <th>stopwords</th>\n",
       "      <th>stopwords_count</th>\n",
       "      <th>hastags</th>\n",
       "      <th>address</th>\n",
       "    </tr>\n",
       "  </thead>\n",
       "  <tbody>\n",
       "    <tr>\n",
       "      <th>0</th>\n",
       "      <td>ham</td>\n",
       "      <td>go jurong point crazy available bugis n great ...</td>\n",
       "      <td>20</td>\n",
       "      <td>111</td>\n",
       "      <td>4.600000</td>\n",
       "      <td>[until, only, in, there]</td>\n",
       "      <td>4</td>\n",
       "      <td>0</td>\n",
       "      <td>0</td>\n",
       "    </tr>\n",
       "    <tr>\n",
       "      <th>1</th>\n",
       "      <td>ham</td>\n",
       "      <td>ok lar joking wif u oni</td>\n",
       "      <td>6</td>\n",
       "      <td>29</td>\n",
       "      <td>4.000000</td>\n",
       "      <td>[]</td>\n",
       "      <td>0</td>\n",
       "      <td>0</td>\n",
       "      <td>0</td>\n",
       "    </tr>\n",
       "    <tr>\n",
       "      <th>2</th>\n",
       "      <td>spam</td>\n",
       "      <td>free entry  wkly comp win fa cup final tkts st...</td>\n",
       "      <td>28</td>\n",
       "      <td>155</td>\n",
       "      <td>4.571429</td>\n",
       "      <td>[in, a, to, to, to]</td>\n",
       "      <td>5</td>\n",
       "      <td>0</td>\n",
       "      <td>0</td>\n",
       "    </tr>\n",
       "    <tr>\n",
       "      <th>3</th>\n",
       "      <td>ham</td>\n",
       "      <td>u dun say early hor u c already say</td>\n",
       "      <td>11</td>\n",
       "      <td>49</td>\n",
       "      <td>3.545455</td>\n",
       "      <td>[so, then]</td>\n",
       "      <td>2</td>\n",
       "      <td>0</td>\n",
       "      <td>0</td>\n",
       "    </tr>\n",
       "    <tr>\n",
       "      <th>4</th>\n",
       "      <td>ham</td>\n",
       "      <td>nah i dont think go usf life around though</td>\n",
       "      <td>13</td>\n",
       "      <td>61</td>\n",
       "      <td>3.769231</td>\n",
       "      <td>[don't, he, to, he, here]</td>\n",
       "      <td>5</td>\n",
       "      <td>0</td>\n",
       "      <td>0</td>\n",
       "    </tr>\n",
       "    <tr>\n",
       "      <th>5</th>\n",
       "      <td>spam</td>\n",
       "      <td>freemsg hey darling  week word back id like fu...</td>\n",
       "      <td>32</td>\n",
       "      <td>147</td>\n",
       "      <td>3.625000</td>\n",
       "      <td>[there, it's, been, now, and, no, some, you, u...</td>\n",
       "      <td>13</td>\n",
       "      <td>0</td>\n",
       "      <td>0</td>\n",
       "    </tr>\n",
       "    <tr>\n",
       "      <th>6</th>\n",
       "      <td>ham</td>\n",
       "      <td>even brother like speak they treat like aid pa...</td>\n",
       "      <td>16</td>\n",
       "      <td>77</td>\n",
       "      <td>3.875000</td>\n",
       "      <td>[my, is, not, to, with, me]</td>\n",
       "      <td>6</td>\n",
       "      <td>0</td>\n",
       "      <td>0</td>\n",
       "    </tr>\n",
       "    <tr>\n",
       "      <th>7</th>\n",
       "      <td>ham</td>\n",
       "      <td>a per request melle melle oru minnaminunginte ...</td>\n",
       "      <td>26</td>\n",
       "      <td>160</td>\n",
       "      <td>5.192308</td>\n",
       "      <td>[your, has, been, as, your, for, all, to, your]</td>\n",
       "      <td>9</td>\n",
       "      <td>0</td>\n",
       "      <td>0</td>\n",
       "    </tr>\n",
       "    <tr>\n",
       "      <th>8</th>\n",
       "      <td>spam</td>\n",
       "      <td>winner a valued network customer selected rece...</td>\n",
       "      <td>26</td>\n",
       "      <td>157</td>\n",
       "      <td>5.076923</td>\n",
       "      <td>[a, you, have, been, to]</td>\n",
       "      <td>5</td>\n",
       "      <td>0</td>\n",
       "      <td>0</td>\n",
       "    </tr>\n",
       "    <tr>\n",
       "      <th>9</th>\n",
       "      <td>spam</td>\n",
       "      <td>had mobile  month u r entitled update latest c...</td>\n",
       "      <td>29</td>\n",
       "      <td>154</td>\n",
       "      <td>4.344828</td>\n",
       "      <td>[your, or, to, to, the, with, for, on]</td>\n",
       "      <td>8</td>\n",
       "      <td>0</td>\n",
       "      <td>0</td>\n",
       "    </tr>\n",
       "  </tbody>\n",
       "</table>\n",
       "</div>"
      ],
      "text/plain": [
       "  Label                                                SMS  word_count  \\\n",
       "0   ham  go jurong point crazy available bugis n great ...          20   \n",
       "1   ham                            ok lar joking wif u oni           6   \n",
       "2  spam  free entry  wkly comp win fa cup final tkts st...          28   \n",
       "3   ham                u dun say early hor u c already say          11   \n",
       "4   ham         nah i dont think go usf life around though          13   \n",
       "5  spam  freemsg hey darling  week word back id like fu...          32   \n",
       "6   ham  even brother like speak they treat like aid pa...          16   \n",
       "7   ham  a per request melle melle oru minnaminunginte ...          26   \n",
       "8  spam  winner a valued network customer selected rece...          26   \n",
       "9  spam  had mobile  month u r entitled update latest c...          29   \n",
       "\n",
       "   char_count  avg_word                                          stopwords  \\\n",
       "0         111  4.600000                           [until, only, in, there]   \n",
       "1          29  4.000000                                                 []   \n",
       "2         155  4.571429                                [in, a, to, to, to]   \n",
       "3          49  3.545455                                         [so, then]   \n",
       "4          61  3.769231                          [don't, he, to, he, here]   \n",
       "5         147  3.625000  [there, it's, been, now, and, no, some, you, u...   \n",
       "6          77  3.875000                        [my, is, not, to, with, me]   \n",
       "7         160  5.192308    [your, has, been, as, your, for, all, to, your]   \n",
       "8         157  5.076923                           [a, you, have, been, to]   \n",
       "9         154  4.344828             [your, or, to, to, the, with, for, on]   \n",
       "\n",
       "   stopwords_count  hastags  address  \n",
       "0                4        0        0  \n",
       "1                0        0        0  \n",
       "2                5        0        0  \n",
       "3                2        0        0  \n",
       "4                5        0        0  \n",
       "5               13        0        0  \n",
       "6                6        0        0  \n",
       "7                9        0        0  \n",
       "8                5        0        0  \n",
       "9                8        0        0  "
      ]
     },
     "execution_count": 37,
     "metadata": {},
     "output_type": "execute_result"
    }
   ],
   "source": [
    "spam_data.head(10)"
   ]
  },
  {
   "cell_type": "markdown",
   "metadata": {},
   "source": [
    "## Spliting the dataset into 70-30"
   ]
  },
  {
   "cell_type": "code",
   "execution_count": 38,
   "metadata": {},
   "outputs": [],
   "source": [
    "from sklearn.model_selection import train_test_split\n",
    "X_train, X_test, y_train, y_test = train_test_split(spam_data['SMS'], spam_data['Label'], test_size=0.3, random_state=1)\n",
    "\n",
    "df_train = pd.DataFrame()\n",
    "df_test = pd.DataFrame()\n",
    "\n",
    "df_train['SMS'] = X_train\n",
    "df_train['Label'] = y_train\n",
    "df_train = df_train.reset_index(drop=True)\n",
    "\n",
    "df_test['SMS'] = X_test\n",
    "df_test['Label'] = y_test\n",
    "df_test = df_test.reset_index(drop=True)"
   ]
  },
  {
   "cell_type": "code",
   "execution_count": 39,
   "metadata": {},
   "outputs": [
    {
     "data": {
      "text/plain": [
       "(3901,)"
      ]
     },
     "execution_count": 39,
     "metadata": {},
     "output_type": "execute_result"
    }
   ],
   "source": [
    "X_train.shape"
   ]
  },
  {
   "cell_type": "code",
   "execution_count": 40,
   "metadata": {},
   "outputs": [
    {
     "data": {
      "text/plain": [
       "(1673,)"
      ]
     },
     "execution_count": 40,
     "metadata": {},
     "output_type": "execute_result"
    }
   ],
   "source": [
    "X_test.shape"
   ]
  },
  {
   "cell_type": "code",
   "execution_count": 41,
   "metadata": {},
   "outputs": [
    {
     "data": {
      "text/plain": [
       "(3901,)"
      ]
     },
     "execution_count": 41,
     "metadata": {},
     "output_type": "execute_result"
    }
   ],
   "source": [
    "y_train.shape"
   ]
  },
  {
   "cell_type": "code",
   "execution_count": 42,
   "metadata": {},
   "outputs": [
    {
     "data": {
      "text/plain": [
       "(1673,)"
      ]
     },
     "execution_count": 42,
     "metadata": {},
     "output_type": "execute_result"
    }
   ],
   "source": [
    "y_test.shape"
   ]
  },
  {
   "cell_type": "code",
   "execution_count": 43,
   "metadata": {},
   "outputs": [
    {
     "data": {
      "text/html": [
       "<div>\n",
       "<style scoped>\n",
       "    .dataframe tbody tr th:only-of-type {\n",
       "        vertical-align: middle;\n",
       "    }\n",
       "\n",
       "    .dataframe tbody tr th {\n",
       "        vertical-align: top;\n",
       "    }\n",
       "\n",
       "    .dataframe thead th {\n",
       "        text-align: right;\n",
       "    }\n",
       "</style>\n",
       "<table border=\"1\" class=\"dataframe\">\n",
       "  <thead>\n",
       "    <tr style=\"text-align: right;\">\n",
       "      <th></th>\n",
       "      <th>SMS</th>\n",
       "    </tr>\n",
       "    <tr>\n",
       "      <th>Label</th>\n",
       "      <th></th>\n",
       "    </tr>\n",
       "  </thead>\n",
       "  <tbody>\n",
       "    <tr>\n",
       "      <th>ham</th>\n",
       "      <td>3376</td>\n",
       "    </tr>\n",
       "    <tr>\n",
       "      <th>spam</th>\n",
       "      <td>525</td>\n",
       "    </tr>\n",
       "  </tbody>\n",
       "</table>\n",
       "</div>"
      ],
      "text/plain": [
       "        SMS\n",
       "Label      \n",
       "ham    3376\n",
       "spam    525"
      ]
     },
     "execution_count": 43,
     "metadata": {},
     "output_type": "execute_result"
    }
   ],
   "source": [
    "df_train.groupby(['Label']).count()"
   ]
  },
  {
   "cell_type": "code",
   "execution_count": 44,
   "metadata": {},
   "outputs": [
    {
     "data": {
      "text/html": [
       "<div>\n",
       "<style scoped>\n",
       "    .dataframe tbody tr th:only-of-type {\n",
       "        vertical-align: middle;\n",
       "    }\n",
       "\n",
       "    .dataframe tbody tr th {\n",
       "        vertical-align: top;\n",
       "    }\n",
       "\n",
       "    .dataframe thead th {\n",
       "        text-align: right;\n",
       "    }\n",
       "</style>\n",
       "<table border=\"1\" class=\"dataframe\">\n",
       "  <thead>\n",
       "    <tr style=\"text-align: right;\">\n",
       "      <th></th>\n",
       "      <th>SMS</th>\n",
       "    </tr>\n",
       "    <tr>\n",
       "      <th>Label</th>\n",
       "      <th></th>\n",
       "    </tr>\n",
       "  </thead>\n",
       "  <tbody>\n",
       "    <tr>\n",
       "      <th>ham</th>\n",
       "      <td>1451</td>\n",
       "    </tr>\n",
       "    <tr>\n",
       "      <th>spam</th>\n",
       "      <td>222</td>\n",
       "    </tr>\n",
       "  </tbody>\n",
       "</table>\n",
       "</div>"
      ],
      "text/plain": [
       "        SMS\n",
       "Label      \n",
       "ham    1451\n",
       "spam    222"
      ]
     },
     "execution_count": 44,
     "metadata": {},
     "output_type": "execute_result"
    }
   ],
   "source": [
    "df_test.groupby(['Label']).count()"
   ]
  },
  {
   "cell_type": "code",
   "execution_count": 45,
   "metadata": {},
   "outputs": [
    {
     "data": {
      "text/plain": [
       "(3901, 2)"
      ]
     },
     "execution_count": 45,
     "metadata": {},
     "output_type": "execute_result"
    }
   ],
   "source": [
    "df_train.shape"
   ]
  },
  {
   "cell_type": "code",
   "execution_count": 46,
   "metadata": {},
   "outputs": [],
   "source": [
    "#import metrics libraries\n",
    "from sklearn.metrics import confusion_matrix\n",
    "from sklearn.metrics import precision_score\n",
    "from sklearn.metrics import recall_score\n",
    "from sklearn.metrics import f1_score\n",
    "from sklearn.metrics import roc_auc_score\n",
    "from sklearn.metrics import accuracy_score, classification_report, confusion_matrix"
   ]
  },
  {
   "cell_type": "code",
   "execution_count": 47,
   "metadata": {},
   "outputs": [],
   "source": [
    "#function which takes in y test value and y predicted value and prints the associated model performance metrics\n",
    "def model_assessment(y_test,predicted_class):\n",
    "    print('confusion matrix')\n",
    "    print(confusion_matrix(y_test,predicted_class))\n",
    "    print('accuracy')\n",
    "    print(accuracy_score(y_test,predicted_class))\n",
    "    print('precision')\n",
    "    print(precision_score(y_test,predicted_class,pos_label='spam'))\n",
    "    print('recall')\n",
    "    print(recall_score(y_test,predicted_class,pos_label='spam'))\n",
    "    print('f-Score')\n",
    "    print(f1_score(y_test,predicted_class,pos_label='spam'))\n",
    "    print('AUC')\n",
    "    print(roc_auc_score(np.where(y_test=='spam',1,0),np.where(predicted_class=='spam',1,0)))\n",
    "    plt.matshow(confusion_matrix(y_test, predicted_class), cmap=plt.cm.binary, interpolation='nearest')\n",
    "    plt.title('confusion matrix')\n",
    "    plt.colorbar()\n",
    "    plt.ylabel('expected label')\n",
    "    plt.xlabel('predicted label')"
   ]
  },
  {
   "cell_type": "markdown",
   "metadata": {},
   "source": [
    "# Naive Bayes"
   ]
  },
  {
   "cell_type": "code",
   "execution_count": 48,
   "metadata": {},
   "outputs": [],
   "source": [
    "n_sms = 3901\n",
    "#Divide into number of classes\n",
    "df_spam = spam_data.copy()[spam_data.Label == 'spam'][:n_sms]\n",
    "df_ham = spam_data.copy()[spam_data.Label == 'ham'][:n_sms]\n",
    "df = pd.concat([df_spam, df_ham], ignore_index=True).reset_index(drop=True)"
   ]
  },
  {
   "cell_type": "code",
   "execution_count": 49,
   "metadata": {},
   "outputs": [],
   "source": [
    "class MailNBClassifier(object):\n",
    "\n",
    "    def __init__(self, df_train):\n",
    "        #contain all spam and ham in our training set respectively\n",
    "        self.df_train = df_train\n",
    "        self.df_spam = df_train.copy()[df_train.Label == 'spam']\n",
    "        self.df_ham = df_train.copy()[df_train.Label == 'ham']\n",
    "\n",
    "    def fit(self):\n",
    "        #compute the “prior” probabilities necessary for classification\n",
    "        #the number of sms in each class/ total number of sms in the training set\n",
    "        Pr_spam = df_spam.shape[0]/self.df_train.shape[0]\n",
    "        Pr_ham = df_ham.shape[0]/self.df_train.shape[0]\n",
    "        self.Prior  = (Pr_spam, Pr_ham)\n",
    "        #Creating vovabulary\n",
    "        #we compute the number of words in each of the dataframes df_spam and df_ham\n",
    "        self.spam_words = ' '.join(self.df_spam['SMS'].tolist()).split() \n",
    "        self.ham_words = ' '.join(self.df_ham['SMS'].tolist()).split()\n",
    "        #collects every word in the training set\n",
    "        all_words = ' '.join(self.df_train['SMS'].tolist()).split()\n",
    "        #the number of unique words, so counter is used\n",
    "        self.vocab = len(Counter(all_words))\n",
    "        #count the total number of words in df_spam and df_ham respectively\n",
    "        wc_spam = len(' '.join(self.df_spam['SMS'].tolist()).split())\n",
    "        wc_ham = len(' '.join(self.df_ham['SMS'].tolist()).split())\n",
    "        self.word_count = (wc_spam, wc_ham)\n",
    "        return self\n",
    "\n",
    "    def predict(self, df_test):\n",
    "        class_choice = ['spam', 'ham']\n",
    "\n",
    "        classification = []\n",
    "        for mail in df_test['SMS']:\n",
    "            SMS = mail.split() \n",
    "            #each tweet is first split into its individual word components from tweet\n",
    "\n",
    "            val_spam = np.array([])\n",
    "            val_ham = np.array([])\n",
    "            for word in SMS:\n",
    "                tmp_spam = np.log(self.spam_words.count(word)+1)\n",
    "                tmp_ham = np.log(self.ham_words.count(word)+1)\n",
    "                val_spam = np.append(val_spam, tmp_spam)\n",
    "                val_ham = np.append(val_ham, tmp_ham)\n",
    "\n",
    "            denom_spam = len(SMS)*np.log(self.word_count[0]+self.vocab)\n",
    "            denom_ham = len(SMS)*np.log(self.word_count[1]+self.vocab)\n",
    "\n",
    "            val_spam = np.log(self.Prior[0]) + np.sum(val_spam) - denom_spam\n",
    "            val_ham = np.log(self.Prior[1]) + np.sum(val_ham) - denom_ham\n",
    "\n",
    "            probability = (val_spam, val_ham)\n",
    "            classification.append(class_choice[np.argmax(probability)])\n",
    "        return classification\n",
    "    \n",
    "    def score(self, feature, target):\n",
    "        comp_c, comp_i = (0,0)\n",
    "        tp, tn, fp, fn = (0,0,0,0)\n",
    "        for i in range(0,len(feature)):\n",
    "            if feature[i] == target[i]:\n",
    "                comp_c += 1\n",
    "            else:\n",
    "                comp_i += 1\n",
    "        accuracy  = comp_c/(comp_c + comp_i)\n",
    "        return accuracy  "
   ]
  },
  {
   "cell_type": "code",
   "execution_count": 50,
   "metadata": {},
   "outputs": [],
   "source": [
    "tnb = MailNBClassifier(df_train)\n",
    "tnb = tnb.fit()\n",
    "predict = tnb.predict(df_test)\n",
    "Accuracy_score = tnb.score(predict, df_test.Label.tolist())"
   ]
  },
  {
   "cell_type": "code",
   "execution_count": 51,
   "metadata": {},
   "outputs": [
    {
     "data": {
      "text/plain": [
       "0.9665271966527197"
      ]
     },
     "execution_count": 51,
     "metadata": {},
     "output_type": "execute_result"
    }
   ],
   "source": [
    "Accuracy_score"
   ]
  },
  {
   "cell_type": "markdown",
   "metadata": {},
   "source": [
    "# Logistic Regression.\n"
   ]
  },
  {
   "cell_type": "code",
   "execution_count": 52,
   "metadata": {},
   "outputs": [],
   "source": [
    "from sklearn.feature_extraction.text import CountVectorizer\n",
    "from sklearn.linear_model import LogisticRegression\n",
    "from sklearn.model_selection import GridSearchCV"
   ]
  },
  {
   "cell_type": "code",
   "execution_count": 53,
   "metadata": {},
   "outputs": [
    {
     "name": "stdout",
     "output_type": "stream",
     "text": [
      "Train Data Shape: (3901,)\n",
      "Test Data Shape: (1673,)\n"
     ]
    }
   ],
   "source": [
    "print(f\"Train Data Shape: {X_train.shape}\\nTest Data Shape: {X_test.shape}\")"
   ]
  },
  {
   "cell_type": "code",
   "execution_count": 54,
   "metadata": {},
   "outputs": [
    {
     "data": {
      "text/plain": [
       "CountVectorizer()"
      ]
     },
     "execution_count": 54,
     "metadata": {},
     "output_type": "execute_result"
    }
   ],
   "source": [
    "#Preprocess text to build the ML mdel\n",
    "cVect = CountVectorizer()\n",
    "cVect.fit(X_train)"
   ]
  },
  {
   "cell_type": "code",
   "execution_count": 55,
   "metadata": {},
   "outputs": [
    {
     "name": "stdout",
     "output_type": "stream",
     "text": [
      "NO.of Tokens:  6470\n"
     ]
    }
   ],
   "source": [
    "#Let's see the vocabulary that has extracted by the count vextorizer\n",
    "print('NO.of Tokens: ',len(cVect.vocabulary_.keys()))"
   ]
  },
  {
   "cell_type": "code",
   "execution_count": 56,
   "metadata": {},
   "outputs": [
    {
     "name": "stdout",
     "output_type": "stream",
     "text": [
      "Number of Observations: 3901\n",
      "Tokens/Features: 6470\n"
     ]
    }
   ],
   "source": [
    "# document term vector (dtv)\n",
    "dtv = cVect.transform(X_train)\n",
    "dtv = dtv.toarray()\n",
    "print(f\"Number of Observations: {dtv.shape[0]}\\nTokens/Features: {dtv.shape[1]}\")"
   ]
  },
  {
   "cell_type": "code",
   "execution_count": 57,
   "metadata": {},
   "outputs": [
    {
     "name": "stdout",
     "output_type": "stream",
     "text": [
      "Wall time: 677 ms\n"
     ]
    }
   ],
   "source": [
    "%%time\n",
    "lr = LogisticRegression(verbose=1)\n",
    "lr = LogisticRegression(solver='liblinear', penalty ='l2' , C = 1.0)\n",
    "lr.fit(dtv, y_train)"
   ]
  },
  {
   "cell_type": "markdown",
   "metadata": {},
   "source": [
    "### Evaluate on the Test data"
   ]
  },
  {
   "cell_type": "code",
   "execution_count": 58,
   "metadata": {},
   "outputs": [
    {
     "name": "stdout",
     "output_type": "stream",
     "text": [
      "Number of Observations: 1673\n",
      "Tokens/Features: 6470\n"
     ]
    }
   ],
   "source": [
    "# Preprocess the test data\n",
    "test_dtv = cVect.transform(X_test)\n",
    "test_dtv = test_dtv.toarray()\n",
    "print(f\"Number of Observations: {test_dtv.shape[0]}\\nTokens/Features: {test_dtv.shape[1]}\")"
   ]
  },
  {
   "cell_type": "code",
   "execution_count": 59,
   "metadata": {},
   "outputs": [
    {
     "name": "stdout",
     "output_type": "stream",
     "text": [
      "Wall time: 133 ms\n"
     ]
    }
   ],
   "source": [
    "%%time\n",
    "pred = lr.predict(test_dtv)"
   ]
  },
  {
   "cell_type": "code",
   "execution_count": 60,
   "metadata": {},
   "outputs": [
    {
     "name": "stdout",
     "output_type": "stream",
     "text": [
      "confusion matrix\n",
      "[[1450    1]\n",
      " [  31  191]]\n",
      "accuracy\n",
      "0.9808726838015541\n",
      "precision\n",
      "0.9947916666666666\n",
      "recall\n",
      "0.8603603603603603\n",
      "f-Score\n",
      "0.9227053140096617\n",
      "AUC\n",
      "0.9298355902422063\n"
     ]
    },
    {
     "data": {
      "image/png": "[encoded data removed]",
      "text/plain": [
       "<Figure size 288x288 with 2 Axes>"
      ]
     },
     "metadata": {
      "needs_background": "light"
     },
     "output_type": "display_data"
    }
   ],
   "source": [
    "model_assessment(y_test,pred)"
   ]
  },
  {
   "cell_type": "code",
   "execution_count": 61,
   "metadata": {},
   "outputs": [
    {
     "name": "stdout",
     "output_type": "stream",
     "text": [
      "Class Label: ham\n",
      "Mail: go jurong point crazy available bugis n great world la e buffet cine got amore wat\n",
      "\n",
      "\n",
      "Class Label: ham\n",
      "Mail: ok lar joking wif u oni\n",
      "\n",
      "\n",
      "Class Label: spam\n",
      "Mail: free entry  wkly comp win fa cup final tkts st may  text fa  receive entry questionstd txt ratetcs apply overs\n",
      "\n",
      "\n",
      "Class Label: ham\n",
      "Mail: u dun say early hor u c already say\n",
      "\n",
      "\n",
      "Class Label: ham\n",
      "Mail: nah i dont think go usf life around though\n",
      "\n",
      "\n",
      "Class Label: spam\n",
      "Mail: freemsg hey darling  week word back id like fun still tb ok xxx std chgs send  rcv\n",
      "\n",
      "\n",
      "Class Label: ham\n",
      "Mail: even brother like speak they treat like aid patent\n",
      "\n",
      "\n"
     ]
    }
   ],
   "source": [
    "for i in spam_data.iterrows():\n",
    "    print(\"Class Label: {}\\nMail: {}\\n\\n\".format(i[1][0], i[1][1]))\n",
    "    if i[0] == 6: break"
   ]
  },
  {
   "cell_type": "markdown",
   "metadata": {},
   "source": [
    "### Predict Class label for the unseen data i.e., Spam or Ham"
   ]
  },
  {
   "cell_type": "code",
   "execution_count": 62,
   "metadata": {},
   "outputs": [],
   "source": [
    "def predict_class(lr):\n",
    "    text = input('Enter Text(Subject of the mail): ')\n",
    "    text = [' '.join([ word for word in word_tokenize(text)  if not word in stop_words])]\n",
    "    t_dtv = cVect.transform(text).toarray()\n",
    "    prob = lr.predict_proba(t_dtv)*100\n",
    "    print(f\"Ham: {prob[0][0]}%\\nSpam: {prob[0][1]}%\")\n",
    "    plt.figure(figsize=(12, 6))\n",
    "    sns.barplot(x =['Ham', 'Spam'] , y = [prob[0][0], prob[0][1]])\n",
    "    plt.xlabel('Class')\n",
    "    plt.ylabel('Probalility')\n",
    "    plt.show()"
   ]
  },
  {
   "cell_type": "code",
   "execution_count": 63,
   "metadata": {},
   "outputs": [
    {
     "name": "stdout",
     "output_type": "stream",
     "text": [
      "Enter Text(Subject of the mail): go jurong point crazy available bugis n great world la e buffet cine got amore wat\n",
      "Ham: 99.58758334250071%\n",
      "Spam: 0.41241665749929024%\n"
     ]
    },
    {
     "data": {
      "image/png": "[encoded data removed]",
      "text/plain": [
       "<Figure size 864x432 with 1 Axes>"
      ]
     },
     "metadata": {
      "needs_background": "light"
     },
     "output_type": "display_data"
    }
   ],
   "source": [
    "predict_class(lr)"
   ]
  },
  {
   "cell_type": "markdown",
   "metadata": {},
   "source": [
    "# Comparison of Different ML Algorithm"
   ]
  },
  {
   "cell_type": "code",
   "execution_count": 64,
   "metadata": {},
   "outputs": [],
   "source": [
    "#import cPickle\n",
    "from sklearn.feature_extraction.text import CountVectorizer, TfidfTransformer\n",
    "from sklearn.naive_bayes import MultinomialNB\n",
    "from sklearn.metrics import classification_report, f1_score, accuracy_score, confusion_matrix\n",
    "from sklearn.pipeline import Pipeline\n",
    "from sklearn.tree import DecisionTreeClassifier"
   ]
  },
  {
   "cell_type": "code",
   "execution_count": 65,
   "metadata": {},
   "outputs": [
    {
     "data": {
      "text/plain": [
       "5574"
      ]
     },
     "execution_count": 65,
     "metadata": {},
     "output_type": "execute_result"
    }
   ],
   "source": [
    "#shuffle dataframes for ham/spam mails as no of ham mail are much higher than spam mail\n",
    "from sklearn.utils import shuffle\n",
    "spam_data = shuffle(spam_data)\n",
    "len(spam_data)"
   ]
  },
  {
   "cell_type": "code",
   "execution_count": 66,
   "metadata": {},
   "outputs": [],
   "source": [
    "#for each word in the email text, get the base form of the word and return the list of base words\n",
    "def split_into_lemmas(SMS):\n",
    "    message = SMS.lower()\n",
    "    words = TextBlob(message).words\n",
    "    # for each word, take its \"base form\" = lemma \n",
    "    return [word.lemma for word in words]"
   ]
  },
  {
   "cell_type": "code",
   "execution_count": 67,
   "metadata": {},
   "outputs": [],
   "source": [
    "#function to apply the count vectorizer(BOW) and TF-IDF transforms to a set of input features\n",
    "def features_transform(mail):\n",
    "    #get the bag of words for the mail text\n",
    "    bow_transformer = CountVectorizer(analyzer=split_into_lemmas).fit(X_train)\n",
    "    #print(len(bow_transformer.vocabulary_))\n",
    "    messages_bow = bow_transformer.transform(mail)\n",
    "    #apply the TF-IDF transform to the output of BOW\n",
    "    tfidf_transformer = TfidfTransformer().fit(messages_bow)\n",
    "    messages_tfidf = tfidf_transformer.transform(messages_bow)\n",
    "    #print(messages_tfidf.shape)\n",
    "    #return result of transforms\n",
    "    return messages_tfidf"
   ]
  },
  {
   "cell_type": "code",
   "execution_count": 68,
   "metadata": {},
   "outputs": [],
   "source": [
    "from sklearn.feature_extraction.text import CountVectorizer"
   ]
  },
  {
   "cell_type": "code",
   "execution_count": 69,
   "metadata": {},
   "outputs": [],
   "source": [
    "#transform training set features into a set of useful features to build models\n",
    "train_features=features_transform(X_train)"
   ]
  },
  {
   "cell_type": "markdown",
   "metadata": {},
   "source": [
    "# Naive Bayes"
   ]
  },
  {
   "cell_type": "code",
   "execution_count": 70,
   "metadata": {},
   "outputs": [],
   "source": [
    "#create and fit NB model\n",
    "modelNB=MultinomialNB()"
   ]
  },
  {
   "cell_type": "code",
   "execution_count": 71,
   "metadata": {},
   "outputs": [
    {
     "data": {
      "text/plain": [
       "MultinomialNB()"
      ]
     },
     "execution_count": 71,
     "metadata": {},
     "output_type": "execute_result"
    }
   ],
   "source": [
    "modelNB.fit(train_features,y_train)"
   ]
  },
  {
   "cell_type": "code",
   "execution_count": 72,
   "metadata": {},
   "outputs": [],
   "source": [
    "#transform test features to test the model performance\n",
    "test_features=features_transform(X_test)"
   ]
  },
  {
   "cell_type": "code",
   "execution_count": 73,
   "metadata": {},
   "outputs": [],
   "source": [
    "#NB predictions\n",
    "predicted_class_NB=modelNB.predict(test_features)"
   ]
  },
  {
   "cell_type": "code",
   "execution_count": 74,
   "metadata": {},
   "outputs": [
    {
     "name": "stdout",
     "output_type": "stream",
     "text": [
      "confusion matrix\n",
      "[[1451    0]\n",
      " [  60  162]]\n",
      "accuracy\n",
      "0.9641362821279139\n",
      "precision\n",
      "1.0\n",
      "recall\n",
      "0.7297297297297297\n",
      "f-Score\n",
      "0.8437499999999999\n",
      "AUC\n",
      "0.8648648648648649\n"
     ]
    },
    {
     "data": {
      "image/png": "[encoded data removed]",
      "text/plain": [
       "<Figure size 288x288 with 2 Axes>"
      ]
     },
     "metadata": {
      "needs_background": "light"
     },
     "output_type": "display_data"
    }
   ],
   "source": [
    "#assess NB\n",
    "model_assessment(y_test,predicted_class_NB)"
   ]
  },
  {
   "cell_type": "markdown",
   "metadata": {},
   "source": [
    "# Decision Tree"
   ]
  },
  {
   "cell_type": "code",
   "execution_count": 75,
   "metadata": {},
   "outputs": [],
   "source": [
    "#create and fit tree model\n",
    "model_tree=DecisionTreeClassifier()"
   ]
  },
  {
   "cell_type": "code",
   "execution_count": 76,
   "metadata": {},
   "outputs": [
    {
     "data": {
      "text/plain": [
       "DecisionTreeClassifier()"
      ]
     },
     "execution_count": 76,
     "metadata": {},
     "output_type": "execute_result"
    }
   ],
   "source": [
    "model_tree.fit(train_features,y_train)"
   ]
  },
  {
   "cell_type": "code",
   "execution_count": 77,
   "metadata": {},
   "outputs": [],
   "source": [
    "#run model on test and print metrics\n",
    "predicted_class_tree=model_tree.predict(test_features)"
   ]
  },
  {
   "cell_type": "code",
   "execution_count": 78,
   "metadata": {},
   "outputs": [
    {
     "name": "stdout",
     "output_type": "stream",
     "text": [
      "confusion matrix\n",
      "[[1427   24]\n",
      " [  47  175]]\n",
      "accuracy\n",
      "0.9575612671846981\n",
      "precision\n",
      "0.8793969849246231\n",
      "recall\n",
      "0.7882882882882883\n",
      "f-Score\n",
      "0.8313539192399051\n",
      "AUC\n",
      "0.8858739856327728\n"
     ]
    },
    {
     "data": {
      "image/png": "[encoded data removed]",
      "text/plain": [
       "<Figure size 288x288 with 2 Axes>"
      ]
     },
     "metadata": {
      "needs_background": "light"
     },
     "output_type": "display_data"
    }
   ],
   "source": [
    "model_assessment(y_test,predicted_class_tree)"
   ]
  },
  {
   "cell_type": "markdown",
   "metadata": {},
   "source": [
    "# Random Forest"
   ]
  },
  {
   "cell_type": "code",
   "execution_count": 79,
   "metadata": {},
   "outputs": [],
   "source": [
    "from sklearn.ensemble import RandomForestClassifier"
   ]
  },
  {
   "cell_type": "code",
   "execution_count": 80,
   "metadata": {},
   "outputs": [],
   "source": [
    "#create and fit model\n",
    "model_rf=RandomForestClassifier(n_estimators=20,criterion='entropy')"
   ]
  },
  {
   "cell_type": "code",
   "execution_count": 81,
   "metadata": {},
   "outputs": [
    {
     "data": {
      "text/plain": [
       "RandomForestClassifier(criterion='entropy', n_estimators=20)"
      ]
     },
     "execution_count": 81,
     "metadata": {},
     "output_type": "execute_result"
    }
   ],
   "source": [
    "model_rf.fit(train_features,y_train)"
   ]
  },
  {
   "cell_type": "code",
   "execution_count": 82,
   "metadata": {},
   "outputs": [],
   "source": [
    "#run model on test and print metrics\n",
    "predicted_class_rf=model_rf.predict(test_features)"
   ]
  },
  {
   "cell_type": "code",
   "execution_count": 83,
   "metadata": {},
   "outputs": [
    {
     "name": "stdout",
     "output_type": "stream",
     "text": [
      "confusion matrix\n",
      "[[1450    1]\n",
      " [  49  173]]\n",
      "accuracy\n",
      "0.9701135684399282\n",
      "precision\n",
      "0.9942528735632183\n",
      "recall\n",
      "0.7792792792792793\n",
      "f-Score\n",
      "0.8737373737373738\n",
      "AUC\n",
      "0.8892950497016658\n"
     ]
    },
    {
     "data": {
      "image/png": "[encoded data removed]",
      "text/plain": [
       "<Figure size 288x288 with 2 Axes>"
      ]
     },
     "metadata": {
      "needs_background": "light"
     },
     "output_type": "display_data"
    }
   ],
   "source": [
    "model_assessment(y_test,predicted_class_rf)"
   ]
  },
  {
   "cell_type": "code",
   "execution_count": null,
   "metadata": {},
   "outputs": [],
   "source": []
  },
  {
   "cell_type": "code",
   "execution_count": null,
   "metadata": {},
   "outputs": [],
   "source": []
  }
 ],
 "metadata": {
  "kernelspec": {
   "display_name": "Python 3",
   "language": "python",
   "name": "python3"
  },
  "language_info": {
   "codemirror_mode": {
    "name": "ipython",
    "version": 3
   },
   "file_extension": ".py",
   "mimetype": "text/x-python",
   "name": "python",
   "nbconvert_exporter": "python",
   "pygments_lexer": "ipython3",
   "version": "3.7.1"
  }
 },
 "nbformat": 4,
 "nbformat_minor": 4
}
